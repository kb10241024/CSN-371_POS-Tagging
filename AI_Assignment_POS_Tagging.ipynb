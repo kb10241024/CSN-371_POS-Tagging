{
  "nbformat": 4,
  "nbformat_minor": 0,
  "metadata": {
    "colab": {
      "name": "AI_Assignment_POS-Tagging.ipynb",
      "provenance": [],
      "collapsed_sections": [],
      "mount_file_id": "1H9O5Rh2XMj07H4Yml6q3gVlF-RtcuFZC",
      "authorship_tag": "ABX9TyO2fZR+qKT7ughr5sF70X53",
      "include_colab_link": true
    },
    "kernelspec": {
      "name": "python3",
      "display_name": "Python 3"
    },
    "accelerator": "GPU"
  },
  "cells": [
    {
      "cell_type": "markdown",
      "metadata": {
        "id": "view-in-github",
        "colab_type": "text"
      },
      "source": [
        "<a href=\"https://colab.research.google.com/github/kb10241024/CSN-371_POS-Tagging/blob/main/AI_Assignment_POS_Tagging.ipynb\" target=\"_parent\"><img src=\"https://colab.research.google.com/assets/colab-badge.svg\" alt=\"Open In Colab\"/></a>"
      ]
    },
    {
      "cell_type": "markdown",
      "metadata": {
        "id": "P7UKvrqeeGfT"
      },
      "source": [
        "# Assignment 3: POS Tagging using HMM with Viterbi"
      ]
    },
    {
      "cell_type": "markdown",
      "metadata": {
        "id": "xllnO-ucYGDv"
      },
      "source": [
        "### Mount Drive and Intial Setup\n",
        "\n",
        "Set **path_to_project_folder** variable to the folder where Train-Corpus and Test-Corpus in present"
      ]
    },
    {
      "cell_type": "code",
      "metadata": {
        "id": "45rMrVWCX3A5",
        "colab": {
          "base_uri": "https://localhost:8080/"
        },
        "outputId": "e6737f41-f3fe-4ac7-ce72-7fca21265d98"
      },
      "source": [
        "from google.colab import drive\n",
        "drive.mount('/content/drive')"
      ],
      "execution_count": null,
      "outputs": [
        {
          "output_type": "stream",
          "text": [
            "Mounted at /content/drive\n"
          ],
          "name": "stdout"
        }
      ]
    },
    {
      "cell_type": "code",
      "metadata": {
        "id": "rtncOezZejm2"
      },
      "source": [
        "import numpy as np\n",
        "import os\n",
        "import tarfile\n",
        "import pandas as pd\n",
        "from collections import Counter\n",
        "from tqdm import tqdm"
      ],
      "execution_count": null,
      "outputs": []
    },
    {
      "cell_type": "code",
      "metadata": {
        "colab": {
          "base_uri": "https://localhost:8080/"
        },
        "id": "mjZEdWcUco64",
        "outputId": "f966b8b0-dc75-4578-b38d-96c4d9dbdc66"
      },
      "source": [
        "ls"
      ],
      "execution_count": null,
      "outputs": [
        {
          "output_type": "stream",
          "text": [
            "Ass2_Test_confusion_matrix.csv   Test_Result.csv\n",
            "Ass2_Test_Result.csv             Test_Result_sentencewise.csv\n",
            "Ass2_Train_confusion_matrix.csv  Test_Result_sentencewise.gsheet\n",
            "Ass2_Training_Result.csv         Train_confusion_matrix.csv\n",
            "Assigment.pdf                    \u001b[0m\u001b[01;34mTrain-corups\u001b[0m/\n",
            "\u001b[01;34mResults\u001b[0m/                         Training_Result.csv\n",
            "Test_confusion_matrix.csv        Training_Result_sentencewise.csv\n",
            "\u001b[01;34mTest-corpus\u001b[0m/\n"
          ],
          "name": "stdout"
        }
      ]
    },
    {
      "cell_type": "code",
      "metadata": {
        "colab": {
          "base_uri": "https://localhost:8080/"
        },
        "id": "gzVf5aIKc68C",
        "outputId": "f25d5af5-6497-437e-b312-300f2ce0de80"
      },
      "source": [
        "path_to_project_folder=\"/content/drive/My Drive/Acads/3-1/AI_Assignment/Project\"\n",
        "%cd $path_to_project_folder"
      ],
      "execution_count": null,
      "outputs": [
        {
          "output_type": "stream",
          "text": [
            "/content/drive/My Drive/Acads/3-1/AI_Assignment/Project\n"
          ],
          "name": "stdout"
        }
      ]
    },
    {
      "cell_type": "code",
      "metadata": {
        "colab": {
          "base_uri": "https://localhost:8080/"
        },
        "id": "1uL9O3BLdoui",
        "outputId": "b2afb794-3bf6-4bc0-9a5c-89e662bba115"
      },
      "source": [
        "ls"
      ],
      "execution_count": null,
      "outputs": [
        {
          "output_type": "stream",
          "text": [
            "Ass2_Test_confusion_matrix.csv   Test_Result.csv\n",
            "Ass2_Test_Result.csv             Test_Result_sentencewise.csv\n",
            "Ass2_Train_confusion_matrix.csv  Test_Result_sentencewise.gsheet\n",
            "Ass2_Training_Result.csv         Train_confusion_matrix.csv\n",
            "Assigment.pdf                    \u001b[0m\u001b[01;34mTrain-corups\u001b[0m/\n",
            "\u001b[01;34mResults\u001b[0m/                         Training_Result.csv\n",
            "Test_confusion_matrix.csv        Training_Result_sentencewise.csv\n",
            "\u001b[01;34mTest-corpus\u001b[0m/\n"
          ],
          "name": "stdout"
        }
      ]
    },
    {
      "cell_type": "code",
      "metadata": {
        "id": "jYVVrnTx3bbv"
      },
      "source": [
        ""
      ],
      "execution_count": null,
      "outputs": []
    },
    {
      "cell_type": "markdown",
      "metadata": {
        "id": "yxkXGunZ3cO2"
      },
      "source": [
        "### Reading XML\n",
        "\n",
        "Read XML files using ElementTree, read lines with \\<s> tag, and getting words from \\<w> tag,\n",
        "\n",
        "*   **'pos'** attribute in \\<w> tag has Part of Speech Tag attached with it!\n",
        "*   **'hw'** attribute in \\<w> tag has hard-word attatched for each word\n",
        "*   parse_files function is used for parsing one file and adding knowledge to sentences,sentence_hws,sentence_tags,dictionary"
      ]
    },
    {
      "cell_type": "code",
      "metadata": {
        "id": "ZDB2Bihy0INW"
      },
      "source": [
        "import xml.etree.ElementTree as ET "
      ],
      "execution_count": null,
      "outputs": []
    },
    {
      "cell_type": "code",
      "metadata": {
        "id": "qatsKbp_zq-d"
      },
      "source": [
        "# For parsing one file and adding knowledge to sentences,sentence_hws,sentence_tags,dictionary\n",
        "def parse_file(filename,sentences,sentence_hws,sentence_tags,dictionary):\n",
        "  tree = ET.parse(filename)\n",
        "  root=tree.getroot()\n",
        "  flag=1\n",
        "  num_sentences=0\n",
        "  for sentence in root.iter('s'):\n",
        "    # print(sentence.tag,sentence.attrib)\n",
        "    sen=[]\n",
        "    hws=[]\n",
        "    tags=[]\n",
        "    for child in sentence:\n",
        "      # print(\"\\t\\t\",child.tag,child.attrib,child.text,child.tag=='w')\n",
        "      sen.append(child.text)\n",
        "      if(child.tag=='w'):\n",
        "        # print(\"\\t\\t\\t\",child.tag,child.attrib,child.text,child.tag=='w')\n",
        "        hws.append(child.attrib['hw'])\n",
        "        tags.append(child.attrib['c5'])\n",
        "        dictionary[0].append(child.attrib['hw'])\n",
        "        dictionary[1].append(child.attrib['c5'])\n",
        "      # print(type(child),type(child.tag),type(child.attrib))\n",
        "    if(len(sen)==0 or len(hws)==0 or len(tags)==0): continue\n",
        "    sentences.append(sen)\n",
        "    sentence_hws.append(hws)\n",
        "    sentence_tags.append(tags)\n",
        "    num_sentences+=1\n",
        "  # print(\"Number of sentences found -\",num_sentences)"
      ],
      "execution_count": null,
      "outputs": []
    },
    {
      "cell_type": "markdown",
      "metadata": {
        "id": "7iJZcTYqjaQW"
      },
      "source": [
        "### Reading Train-Corpus\n",
        "\n",
        "*   dictionary = [[],[]], list of lists has two lists as [[hw],[tag]]\n",
        "*   sentences=[], list of sentences as it is\n",
        "*   sentence_hws=[] list of sentences in hw\n",
        "*   sentence_tags=[] list of corresponding tags"
      ]
    },
    {
      "cell_type": "code",
      "metadata": {
        "colab": {
          "base_uri": "https://localhost:8080/"
        },
        "id": "dNUCT_CgeKgg",
        "outputId": "e55c12bc-af57-400d-a532-2454d1cdbade"
      },
      "source": [
        "# For iterating in \n",
        "cnt = 0\n",
        "dictionary = [[],[]] # [[hw],[tag]]\n",
        "sentences=[] # list of sentences as it is\n",
        "sentence_hws=[] # list of sentences in hw\n",
        "sentence_tags=[] # list of corresponding tags\n",
        "train_dir  = path_to_project_folder+\"/Train-corups\"\n",
        "for subdir, dirs, files in tqdm(os.walk(train_dir)):\n",
        "    file_cnt=0\n",
        "    for file in files:\n",
        "      parse_file(os.path.join(subdir, file),sentences,sentence_hws,sentence_tags,dictionary)\n",
        "      # print(os.path.join(subdir, file))\n",
        "      file_cnt+=1\n",
        "    cnt+=file_cnt\n",
        "    print(\"Number of files processed - \",file_cnt)\n",
        "print(cnt)"
      ],
      "execution_count": null,
      "outputs": [
        {
          "output_type": "stream",
          "text": [
            "\r0it [00:00, ?it/s]"
          ],
          "name": "stderr"
        },
        {
          "output_type": "stream",
          "text": [
            "Number of files processed -  0\n"
          ],
          "name": "stdout"
        },
        {
          "output_type": "stream",
          "text": [
            "\r2it [00:06,  3.32s/it]"
          ],
          "name": "stderr"
        },
        {
          "output_type": "stream",
          "text": [
            "Number of files processed -  26\n"
          ],
          "name": "stdout"
        },
        {
          "output_type": "stream",
          "text": [
            "\r3it [00:15,  5.03s/it]"
          ],
          "name": "stderr"
        },
        {
          "output_type": "stream",
          "text": [
            "Number of files processed -  25\n"
          ],
          "name": "stdout"
        },
        {
          "output_type": "stream",
          "text": [
            "\r4it [00:19,  4.62s/it]"
          ],
          "name": "stderr"
        },
        {
          "output_type": "stream",
          "text": [
            "Number of files processed -  32\n"
          ],
          "name": "stdout"
        },
        {
          "output_type": "stream",
          "text": [
            "\r5it [00:27,  5.76s/it]"
          ],
          "name": "stderr"
        },
        {
          "output_type": "stream",
          "text": [
            "Number of files processed -  22\n"
          ],
          "name": "stdout"
        },
        {
          "output_type": "stream",
          "text": [
            "\r6it [00:30,  4.84s/it]"
          ],
          "name": "stderr"
        },
        {
          "output_type": "stream",
          "text": [
            "Number of files processed -  32\n"
          ],
          "name": "stdout"
        },
        {
          "output_type": "stream",
          "text": [
            "\r7it [00:35,  4.96s/it]"
          ],
          "name": "stderr"
        },
        {
          "output_type": "stream",
          "text": [
            "Number of files processed -  30\n"
          ],
          "name": "stdout"
        },
        {
          "output_type": "stream",
          "text": [
            "\r8it [00:40,  4.88s/it]"
          ],
          "name": "stderr"
        },
        {
          "output_type": "stream",
          "text": [
            "Number of files processed -  31\n"
          ],
          "name": "stdout"
        },
        {
          "output_type": "stream",
          "text": [
            "\r9it [00:43,  4.32s/it]"
          ],
          "name": "stderr"
        },
        {
          "output_type": "stream",
          "text": [
            "Number of files processed -  23\n"
          ],
          "name": "stdout"
        },
        {
          "output_type": "stream",
          "text": [
            "\r10it [00:54,  6.49s/it]"
          ],
          "name": "stderr"
        },
        {
          "output_type": "stream",
          "text": [
            "Number of files processed -  24\n"
          ],
          "name": "stdout"
        },
        {
          "output_type": "stream",
          "text": [
            "\r11it [00:57,  5.42s/it]"
          ],
          "name": "stderr"
        },
        {
          "output_type": "stream",
          "text": [
            "Number of files processed -  32\n"
          ],
          "name": "stdout"
        },
        {
          "output_type": "stream",
          "text": [
            "\r12it [00:58,  4.02s/it]"
          ],
          "name": "stderr"
        },
        {
          "output_type": "stream",
          "text": [
            "Number of files processed -  32\n"
          ],
          "name": "stdout"
        },
        {
          "output_type": "stream",
          "text": [
            "\r13it [01:05,  4.74s/it]"
          ],
          "name": "stderr"
        },
        {
          "output_type": "stream",
          "text": [
            "Number of files processed -  24\n"
          ],
          "name": "stdout"
        },
        {
          "output_type": "stream",
          "text": [
            "\r14it [01:07,  4.20s/it]"
          ],
          "name": "stderr"
        },
        {
          "output_type": "stream",
          "text": [
            "Number of files processed -  32\n"
          ],
          "name": "stdout"
        },
        {
          "output_type": "stream",
          "text": [
            "\r15it [01:08,  3.11s/it]"
          ],
          "name": "stderr"
        },
        {
          "output_type": "stream",
          "text": [
            "Number of files processed -  31\n"
          ],
          "name": "stdout"
        },
        {
          "output_type": "stream",
          "text": [
            "\r16it [01:19,  5.35s/it]"
          ],
          "name": "stderr"
        },
        {
          "output_type": "stream",
          "text": [
            "Number of files processed -  29\n"
          ],
          "name": "stdout"
        },
        {
          "output_type": "stream",
          "text": [
            "\r17it [01:22,  4.73s/it]"
          ],
          "name": "stderr"
        },
        {
          "output_type": "stream",
          "text": [
            "Number of files processed -  32\n"
          ],
          "name": "stdout"
        },
        {
          "output_type": "stream",
          "text": [
            "\r18it [01:23,  3.50s/it]"
          ],
          "name": "stderr"
        },
        {
          "output_type": "stream",
          "text": [
            "Number of files processed -  32\n"
          ],
          "name": "stdout"
        },
        {
          "output_type": "stream",
          "text": [
            "19it [01:27,  4.60s/it]"
          ],
          "name": "stderr"
        },
        {
          "output_type": "stream",
          "text": [
            "Number of files processed -  31\n",
            "520\n"
          ],
          "name": "stdout"
        },
        {
          "output_type": "stream",
          "text": [
            "\n"
          ],
          "name": "stderr"
        }
      ]
    },
    {
      "cell_type": "code",
      "metadata": {
        "colab": {
          "base_uri": "https://localhost:8080/"
        },
        "id": "WoL-Fl8LehkC",
        "outputId": "a4f5d6e2-1e1a-4885-b1da-db5790b2b945"
      },
      "source": [
        "print(len(dictionary),len(dictionary[0]),len(dictionary[1]),len(sentences),len(sentence_hws),len(sentence_tags))"
      ],
      "execution_count": null,
      "outputs": [
        {
          "output_type": "stream",
          "text": [
            "2 8904217 8904217 481637 481637 481637\n"
          ],
          "name": "stdout"
        }
      ]
    },
    {
      "cell_type": "code",
      "metadata": {
        "colab": {
          "base_uri": "https://localhost:8080/"
        },
        "id": "Edtt1NPmiQ81",
        "outputId": "c8d54c94-e26c-4fa0-d638-bbb972069a77"
      },
      "source": [
        "print(sentences[5])\n",
        "print(sentence_hws[5])\n",
        "print(sentence_tags[5])"
      ],
      "execution_count": null,
      "outputs": [
        {
          "output_type": "stream",
          "text": [
            "['If ', 'you ', 'want ', 'Britain ', 'to ', 'stay ', 'the ', 'same ', 'then ', 'you ', 'probably ', 'wo', \"n't \", 'like ', 'this ', 'manifesto', '.']\n",
            "['if', 'you', 'want', 'britain', 'to', 'stay', 'the', 'same', 'then', 'you', 'probably', 'will', 'not', 'like', 'this', 'manifesto']\n",
            "['CJS', 'PNP', 'VVB', 'NP0', 'TO0', 'VVI', 'AT0', 'DT0', 'AV0', 'PNP', 'AV0', 'VM0', 'XX0', 'VVI', 'DT0', 'NN1']\n"
          ],
          "name": "stdout"
        }
      ]
    },
    {
      "cell_type": "markdown",
      "metadata": {
        "id": "LLATyym1Aicy"
      },
      "source": [
        "## Generating Model Parameters\n",
        "\n",
        "1.   Dictionaries(unique_hws,ind_hw,unique_tags,ind_tags) for mapping\n",
        "2.   Emmission Matrix(EM)\n",
        "3.   Transition Matrix(TM)\n",
        "4.   Tag priori probabilities\n"
      ]
    },
    {
      "cell_type": "markdown",
      "metadata": {
        "id": "L7aiVHgOkM49"
      },
      "source": [
        "### Genrate dictionary for mapping\n",
        "\n",
        "*   for mapping HW to index(ind_hws) and index to HW(unique_hws)\n",
        "*   for mapping POS tag to index(ind_tags) and index to POS tag(unique_tags)\n",
        "\n"
      ]
    },
    {
      "cell_type": "code",
      "metadata": {
        "id": "ECWQOThT3wBF",
        "colab": {
          "base_uri": "https://localhost:8080/"
        },
        "outputId": "170cb054-749a-47ee-99b7-361add58aa38"
      },
      "source": [
        "unique_hws=list(set(dictionary[0])) # ind:hw\n",
        "# Adding one extra word '<UNKNOWN>' that'll cover all unknown words\n",
        "unique_hws.append('<UNKNOWN>')\n",
        "unique_tags=list(set(dictionary[1])) # ind:tag\n",
        "num_words=len(unique_hws)\n",
        "num_tags=len(unique_tags)\n",
        "print(\"Number of hard words - \",num_words)\n",
        "print(\"Number of unique tags - \",num_tags)"
      ],
      "execution_count": null,
      "outputs": [
        {
          "output_type": "stream",
          "text": [
            "Number of hard words -  139151\n",
            "Number of unique tags -  87\n"
          ],
          "name": "stdout"
        }
      ]
    },
    {
      "cell_type": "code",
      "metadata": {
        "colab": {
          "base_uri": "https://localhost:8080/"
        },
        "id": "gmvFfUWMDzfe",
        "outputId": "87b67111-2de1-47f7-f308-f3d9c9ffa2a5"
      },
      "source": [
        "print(unique_tags)"
      ],
      "execution_count": null,
      "outputs": [
        {
          "output_type": "stream",
          "text": [
            "['AVP', 'VVI', 'VVG', 'NN1', 'PRF', 'VHZ', 'VVZ', 'AVP-PRP', 'VBN', 'NP0-NN1', 'CJS', 'AJC', 'ITJ', 'NN1-NP0', 'PRP-AVP', 'VDI', 'VDG', 'UNC', 'CJS-AVQ', 'VVD', 'VM0', 'VBI', 'AJ0-VVD', 'PNQ', 'VHG', 'VVG-AJ0', 'VDN', 'EX0', 'AJ0', 'VHB', 'NN1-VVB', 'DPS', 'AT0', 'NP0', 'CJS-PRP', 'AV0', 'VVB-NN1', 'VVN-VVD', 'VHI', 'VVB', 'ORD', 'PRP-CJS', 'VVD-VVN', 'TO0', 'ZZ0', 'AJ0-NN1', 'PNX', 'AVQ', 'PNI-CRD', 'VDZ', 'VBG', 'PNI', 'VBZ', 'VHN', 'CRD-PNI', 'CJC', 'VDD', 'POS', 'AJ0-VVN', 'VHD', 'CJT-DT0', 'DT0', 'DT0-CJT', 'DTQ', 'CRD', 'VDB', 'NN1-AJ0', 'PNP', 'VVD-AJ0', 'VVG-NN1', 'AJ0-VVG', 'VBB', 'NN1-VVG', 'AJS', 'PRP', 'NN0', 'AV0-AJ0', 'VVZ-NN2', 'VBD', 'AVQ-CJS', 'NN2', 'NN2-VVZ', 'XX0', 'CJT', 'VVN-AJ0', 'VVN', 'AJ0-AV0']\n"
          ],
          "name": "stdout"
        }
      ]
    },
    {
      "cell_type": "code",
      "metadata": {
        "id": "xmpkC9j0AJ9v"
      },
      "source": [
        "ind_hws={} # hw:ind\n",
        "ind_tags={} # tag:ind\n",
        "for i,tag in enumerate(unique_tags):\n",
        "  ind_tags[tag]=i\n",
        "for i,hw in enumerate(unique_hws):\n",
        "  ind_hws[hw]=i"
      ],
      "execution_count": null,
      "outputs": []
    },
    {
      "cell_type": "code",
      "metadata": {
        "colab": {
          "base_uri": "https://localhost:8080/"
        },
        "id": "NfBJZkhxAJ1n",
        "outputId": "b5047bc2-6845-46b4-e5dc-c3a2daef9f36"
      },
      "source": [
        "print(\"Number of hard words - \",len(ind_hws))\n",
        "print(\"Number of unique tags - \",len(ind_tags))"
      ],
      "execution_count": null,
      "outputs": [
        {
          "output_type": "stream",
          "text": [
            "Number of hard words -  139151\n",
            "Number of unique tags -  87\n"
          ],
          "name": "stdout"
        }
      ]
    },
    {
      "cell_type": "code",
      "metadata": {
        "colab": {
          "base_uri": "https://localhost:8080/"
        },
        "id": "QHo5zHr9AJqg",
        "outputId": "8dd43df9-2b8d-438c-f75f-3c2562a23bd6"
      },
      "source": [
        "print(ind_tags)\n",
        "print(unique_tags)\n",
        "# print(unique_tags[ind_tags['ADJ']])"
      ],
      "execution_count": null,
      "outputs": [
        {
          "output_type": "stream",
          "text": [
            "{'AVP': 0, 'VVI': 1, 'VVG': 2, 'NN1': 3, 'PRF': 4, 'VHZ': 5, 'VVZ': 6, 'AVP-PRP': 7, 'VBN': 8, 'NP0-NN1': 9, 'CJS': 10, 'AJC': 11, 'ITJ': 12, 'NN1-NP0': 13, 'PRP-AVP': 14, 'VDI': 15, 'VDG': 16, 'UNC': 17, 'CJS-AVQ': 18, 'VVD': 19, 'VM0': 20, 'VBI': 21, 'AJ0-VVD': 22, 'PNQ': 23, 'VHG': 24, 'VVG-AJ0': 25, 'VDN': 26, 'EX0': 27, 'AJ0': 28, 'VHB': 29, 'NN1-VVB': 30, 'DPS': 31, 'AT0': 32, 'NP0': 33, 'CJS-PRP': 34, 'AV0': 35, 'VVB-NN1': 36, 'VVN-VVD': 37, 'VHI': 38, 'VVB': 39, 'ORD': 40, 'PRP-CJS': 41, 'VVD-VVN': 42, 'TO0': 43, 'ZZ0': 44, 'AJ0-NN1': 45, 'PNX': 46, 'AVQ': 47, 'PNI-CRD': 48, 'VDZ': 49, 'VBG': 50, 'PNI': 51, 'VBZ': 52, 'VHN': 53, 'CRD-PNI': 54, 'CJC': 55, 'VDD': 56, 'POS': 57, 'AJ0-VVN': 58, 'VHD': 59, 'CJT-DT0': 60, 'DT0': 61, 'DT0-CJT': 62, 'DTQ': 63, 'CRD': 64, 'VDB': 65, 'NN1-AJ0': 66, 'PNP': 67, 'VVD-AJ0': 68, 'VVG-NN1': 69, 'AJ0-VVG': 70, 'VBB': 71, 'NN1-VVG': 72, 'AJS': 73, 'PRP': 74, 'NN0': 75, 'AV0-AJ0': 76, 'VVZ-NN2': 77, 'VBD': 78, 'AVQ-CJS': 79, 'NN2': 80, 'NN2-VVZ': 81, 'XX0': 82, 'CJT': 83, 'VVN-AJ0': 84, 'VVN': 85, 'AJ0-AV0': 86}\n",
            "['AVP', 'VVI', 'VVG', 'NN1', 'PRF', 'VHZ', 'VVZ', 'AVP-PRP', 'VBN', 'NP0-NN1', 'CJS', 'AJC', 'ITJ', 'NN1-NP0', 'PRP-AVP', 'VDI', 'VDG', 'UNC', 'CJS-AVQ', 'VVD', 'VM0', 'VBI', 'AJ0-VVD', 'PNQ', 'VHG', 'VVG-AJ0', 'VDN', 'EX0', 'AJ0', 'VHB', 'NN1-VVB', 'DPS', 'AT0', 'NP0', 'CJS-PRP', 'AV0', 'VVB-NN1', 'VVN-VVD', 'VHI', 'VVB', 'ORD', 'PRP-CJS', 'VVD-VVN', 'TO0', 'ZZ0', 'AJ0-NN1', 'PNX', 'AVQ', 'PNI-CRD', 'VDZ', 'VBG', 'PNI', 'VBZ', 'VHN', 'CRD-PNI', 'CJC', 'VDD', 'POS', 'AJ0-VVN', 'VHD', 'CJT-DT0', 'DT0', 'DT0-CJT', 'DTQ', 'CRD', 'VDB', 'NN1-AJ0', 'PNP', 'VVD-AJ0', 'VVG-NN1', 'AJ0-VVG', 'VBB', 'NN1-VVG', 'AJS', 'PRP', 'NN0', 'AV0-AJ0', 'VVZ-NN2', 'VBD', 'AVQ-CJS', 'NN2', 'NN2-VVZ', 'XX0', 'CJT', 'VVN-AJ0', 'VVN', 'AJ0-AV0']\n"
          ],
          "name": "stdout"
        }
      ]
    },
    {
      "cell_type": "code",
      "metadata": {
        "colab": {
          "base_uri": "https://localhost:8080/"
        },
        "id": "k1N7sNd000n_",
        "outputId": "a56dd993-1db7-4b80-a007-a8888c11f73b"
      },
      "source": [
        "tag_distribution=dict(Counter(dictionary[1]))\n",
        "# tag_distribution['<START>']=tag_distribution['<END>'] =0\n",
        "print(tag_distribution)"
      ],
      "execution_count": null,
      "outputs": [
        {
          "output_type": "stream",
          "text": [
            "{'VBB': 50054, 'VVN': 181699, 'DT0': 190277, 'NN1': 1342455, 'VM0': 118146, 'XX0': 59497, 'VBI': 54663, 'DTQ': 53463, 'PNP': 359829, 'VVB': 86977, 'VDZ': 4872, 'VVI': 212370, 'AJ0': 623211, 'NN2': 503345, 'AV0': 380844, 'PRP-AVP': 22833, 'AT0': 839312, 'PRF': 271444, 'VVZ': 71610, 'PRP': 727447, 'VHZ': 30014, 'TO0': 149190, 'VDN': 2540, 'NP0': 447927, 'CJS': 104825, 'CJC': 315391, 'AJC': 19142, 'PNX': 11821, 'DPS': 134247, 'AVP': 58069, 'VVG': 111607, 'VVG-AJ0': 11875, 'NN0': 52094, 'AJ0-NN1': 43447, 'ORD': 37185, 'DT0-CJT': 4132, 'VDB': 10595, 'CJT': 58175, 'POS': 61092, 'CRD': 150189, 'VBZ': 104836, 'PNQ': 23468, 'VVN-AJ0': 9921, 'AVQ': 18968, 'VDI': 5576, 'NN2-VVZ': 10856, 'AJ0-AV0': 6247, 'VVG-NN1': 10108, 'NN1-VVB': 48571, 'AJ0-VVG': 5200, 'NN1-AJ0': 22883, 'VVB-NN1': 18860, 'AJS': 11034, 'VHB': 26496, 'EX0': 20842, 'NN1-VVG': 6675, 'VVN-VVD': 19169, 'VBN': 23960, 'CJS-PRP': 4769, 'AJ0-VVD': 2615, 'VVD': 179769, 'UNC': 11345, 'AV0-AJ0': 7160, 'VHD': 39501, 'VHI': 17068, 'VBD': 111774, 'PNI': 23655, 'VVD-VVN': 18681, 'VVZ-NN2': 5696, 'AJ0-VVN': 4690, 'PRP-CJS': 5348, 'VBG': 8015, 'AVP-PRP': 7379, 'CJT-DT0': 7293, 'ZZ0': 4942, 'AVQ-CJS': 1852, 'VDG': 1792, 'CJS-AVQ': 5173, 'NP0-NN1': 34543, 'NN1-NP0': 14818, 'VHG': 3183, 'CRD-PNI': 308, 'VDD': 10104, 'ITJ': 5756, 'PNI-CRD': 1685, 'VVD-AJ0': 1693, 'VHN': 2035}\n"
          ],
          "name": "stdout"
        }
      ]
    },
    {
      "cell_type": "code",
      "metadata": {
        "id": "fK0liOVk00Tw"
      },
      "source": [
        "# x = {1: 2, 3: 4, 4: 3, 2: 1, 0: 0}\n",
        "sorted_tags= {k: v for k, v in sorted(tag_distribution.items(), key=lambda item: item[1],reverse=True)}"
      ],
      "execution_count": null,
      "outputs": []
    },
    {
      "cell_type": "code",
      "metadata": {
        "colab": {
          "base_uri": "https://localhost:8080/"
        },
        "id": "d9HEKZYprEX7",
        "outputId": "215bc1e8-aeea-4d4d-94a6-909289ea01a8"
      },
      "source": [
        "print(sorted_tags)"
      ],
      "execution_count": null,
      "outputs": [
        {
          "output_type": "stream",
          "text": [
            "{'NN1': 1342455, 'AT0': 839312, 'PRP': 727447, 'AJ0': 623211, 'NN2': 503345, 'NP0': 447927, 'AV0': 380844, 'PNP': 359829, 'CJC': 315391, 'PRF': 271444, 'VVI': 212370, 'DT0': 190277, 'VVN': 181699, 'VVD': 179769, 'CRD': 150189, 'TO0': 149190, 'DPS': 134247, 'VM0': 118146, 'VBD': 111774, 'VVG': 111607, 'VBZ': 104836, 'CJS': 104825, 'VVB': 86977, 'VVZ': 71610, 'POS': 61092, 'XX0': 59497, 'CJT': 58175, 'AVP': 58069, 'VBI': 54663, 'DTQ': 53463, 'NN0': 52094, 'VBB': 50054, 'NN1-VVB': 48571, 'AJ0-NN1': 43447, 'VHD': 39501, 'ORD': 37185, 'NP0-NN1': 34543, 'VHZ': 30014, 'VHB': 26496, 'VBN': 23960, 'PNI': 23655, 'PNQ': 23468, 'NN1-AJ0': 22883, 'PRP-AVP': 22833, 'EX0': 20842, 'VVN-VVD': 19169, 'AJC': 19142, 'AVQ': 18968, 'VVB-NN1': 18860, 'VVD-VVN': 18681, 'VHI': 17068, 'NN1-NP0': 14818, 'VVG-AJ0': 11875, 'PNX': 11821, 'UNC': 11345, 'AJS': 11034, 'NN2-VVZ': 10856, 'VDB': 10595, 'VVG-NN1': 10108, 'VDD': 10104, 'VVN-AJ0': 9921, 'VBG': 8015, 'AVP-PRP': 7379, 'CJT-DT0': 7293, 'AV0-AJ0': 7160, 'NN1-VVG': 6675, 'AJ0-AV0': 6247, 'ITJ': 5756, 'VVZ-NN2': 5696, 'VDI': 5576, 'PRP-CJS': 5348, 'AJ0-VVG': 5200, 'CJS-AVQ': 5173, 'ZZ0': 4942, 'VDZ': 4872, 'CJS-PRP': 4769, 'AJ0-VVN': 4690, 'DT0-CJT': 4132, 'VHG': 3183, 'AJ0-VVD': 2615, 'VDN': 2540, 'VHN': 2035, 'AVQ-CJS': 1852, 'VDG': 1792, 'VVD-AJ0': 1693, 'PNI-CRD': 1685, 'CRD-PNI': 308}\n"
          ],
          "name": "stdout"
        }
      ]
    },
    {
      "cell_type": "code",
      "metadata": {
        "colab": {
          "base_uri": "https://localhost:8080/"
        },
        "id": "2s-YlBblrEUp",
        "outputId": "ef0d4732-563d-41bf-b46d-8db118b93491"
      },
      "source": [
        "len(sorted_tags)"
      ],
      "execution_count": null,
      "outputs": [
        {
          "output_type": "execute_result",
          "data": {
            "text/plain": [
              "87"
            ]
          },
          "metadata": {
            "tags": []
          },
          "execution_count": 113
        }
      ]
    },
    {
      "cell_type": "markdown",
      "metadata": {
        "id": "ZIVwx1cuHM2c"
      },
      "source": [
        "### Create Emission Matrix\n",
        "Emission matrix(EM[num_tags,num_words]) shows the probability, given a tag(in row), what is the probabilty of a given word(in columns) "
      ]
    },
    {
      "cell_type": "code",
      "metadata": {
        "id": "_R6Xtyt40dbQ"
      },
      "source": [
        "def create_emission_matrix(dictionary,num_tags,num_words,tag_distribution):\n",
        "  # return emission matrix(EM[num_tags*num_words]) which shows the probability of given a tag(in row), what is the probabilty of a given word(in columns) \n",
        "  EM = np.zeros((num_tags,num_words))\n",
        "  for hw,tag in tqdm(zip(dictionary[0],dictionary[1])):\n",
        "    EM[ind_tags[tag]][ind_hws[hw]]+=1\n",
        "  for i in range(num_tags):\n",
        "    EM[i]/=tag_distribution[unique_tags[i]]\n",
        "  # Adding small probabilities to avoid zero, Last column corresponds to '<UNKNOWN>' keyword \n",
        "  EM[:,-1]=1e-12\n",
        "  return EM"
      ],
      "execution_count": null,
      "outputs": []
    },
    {
      "cell_type": "code",
      "metadata": {
        "id": "QkanYBIexYtg",
        "colab": {
          "base_uri": "https://localhost:8080/"
        },
        "outputId": "57c5439e-ac9d-46dd-f52a-98969f0f275f"
      },
      "source": [
        "EM=create_emission_matrix(dictionary,num_tags,num_words,tag_distribution)"
      ],
      "execution_count": null,
      "outputs": [
        {
          "output_type": "stream",
          "text": [
            "8904217it [00:10, 830205.28it/s]\n"
          ],
          "name": "stderr"
        }
      ]
    },
    {
      "cell_type": "code",
      "metadata": {
        "colab": {
          "base_uri": "https://localhost:8080/"
        },
        "id": "kx4rrdvkxovS",
        "outputId": "44832dfa-15b1-45c3-9bb4-99098c6324ab"
      },
      "source": [
        "print(EM.shape)"
      ],
      "execution_count": null,
      "outputs": [
        {
          "output_type": "stream",
          "text": [
            "(10, 139151)\n"
          ],
          "name": "stdout"
        }
      ]
    },
    {
      "cell_type": "code",
      "metadata": {
        "colab": {
          "base_uri": "https://localhost:8080/"
        },
        "id": "O8Lgd6r7ijHr",
        "outputId": "d8229382-7bad-450e-9337-204b9ee9eb26"
      },
      "source": [
        "print(EM[:,-1])"
      ],
      "execution_count": null,
      "outputs": [
        {
          "output_type": "stream",
          "text": [
            "[1.e-12 1.e-12 1.e-12 1.e-12 1.e-12 1.e-12 1.e-12 1.e-12 1.e-12 1.e-12]\n"
          ],
          "name": "stdout"
        }
      ]
    },
    {
      "cell_type": "code",
      "metadata": {
        "colab": {
          "base_uri": "https://localhost:8080/"
        },
        "id": "ERg2BNc8xYaa",
        "outputId": "af5d13b9-6b66-434b-9f98-38ff8e210738"
      },
      "source": [
        "for row in EM:\n",
        "  print(np.sum(row))"
      ],
      "execution_count": null,
      "outputs": [
        {
          "output_type": "stream",
          "text": [
            "1.000000000001\n",
            "1.0000000000009999\n",
            "1.000000000001\n",
            "1.000000000001\n",
            "1.000000000001\n",
            "1.000000000001\n",
            "1.000000000001\n",
            "1.000000000001\n",
            "1.0000000000009999\n",
            "1.0000000000009999\n"
          ],
          "name": "stdout"
        }
      ]
    },
    {
      "cell_type": "markdown",
      "metadata": {
        "id": "yGh-EC6V3xfH"
      },
      "source": [
        "### Create Transition Matrix\n",
        "\n",
        "Transition matrix, TM[num_tags,num_tags] shows the probability of next tag given current tag\n"
      ]
    },
    {
      "cell_type": "code",
      "metadata": {
        "id": "LcDYJVPo2L4Y"
      },
      "source": [
        "def create_transition_matrix(sentence_tags,num_tags,ind_tags):\n",
        "  # return transition matrix, TM[num_tags*num_tags] which shows the probability of next tag given current tag\n",
        "  TM=np.zeros((num_tags,num_tags))\n",
        "  for sen in tqdm(sentence_tags):\n",
        "    prev='<START>'\n",
        "    for tag in sen:\n",
        "      if(prev=='<START>'):\n",
        "        prev=tag\n",
        "        continue\n",
        "      TM[ind_tags[prev]][ind_tags[tag]]+=1\n",
        "      prev=tag\n",
        "  for row in range(TM.shape[0]):\n",
        "    if(np.sum(TM[row])!=0):\n",
        "      TM[row]/=np.sum(TM[row])\n",
        "    # print(TM[row])\n",
        "  return TM"
      ],
      "execution_count": null,
      "outputs": []
    },
    {
      "cell_type": "code",
      "metadata": {
        "id": "4KYQwT9331L6",
        "colab": {
          "base_uri": "https://localhost:8080/"
        },
        "outputId": "256b8d48-09cd-496a-ffa7-610770256295"
      },
      "source": [
        "# demo=sentence_tags[:2]\n",
        "# print(demo)\n",
        "TM=create_transition_matrix(sentence_tags,num_tags,ind_tags)"
      ],
      "execution_count": null,
      "outputs": [
        {
          "output_type": "stream",
          "text": [
            "100%|██████████| 481637/481637 [00:06<00:00, 73193.17it/s]\n"
          ],
          "name": "stderr"
        }
      ]
    },
    {
      "cell_type": "code",
      "metadata": {
        "colab": {
          "base_uri": "https://localhost:8080/"
        },
        "id": "7rAXLCTxVEv-",
        "outputId": "7c683f06-35e5-4f55-b7af-85462f04c2da"
      },
      "source": [
        "print(TM.shape)\n",
        "for row in TM:\n",
        "  print(np.sum(row))"
      ],
      "execution_count": null,
      "outputs": [
        {
          "output_type": "stream",
          "text": [
            "(10, 10)\n",
            "1.0\n",
            "1.0\n",
            "1.0\n",
            "1.0\n",
            "1.0\n",
            "1.0000000000000002\n",
            "1.0\n",
            "1.0\n",
            "1.0\n",
            "0.9999999999999999\n"
          ],
          "name": "stdout"
        }
      ]
    },
    {
      "cell_type": "code",
      "metadata": {
        "colab": {
          "base_uri": "https://localhost:8080/"
        },
        "id": "umCnPpTOSiHZ",
        "outputId": "9d07798e-bad5-44a8-f93a-25b47f9c3c12"
      },
      "source": [
        "print(TM)"
      ],
      "execution_count": null,
      "outputs": [
        {
          "output_type": "stream",
          "text": [
            "[[1.02771941e-01 1.96973038e-01 2.83196734e-01 6.25661609e-02\n",
            "  3.62882530e-04 5.25277475e-03 1.55991371e-01 4.55046674e-02\n",
            "  6.99922211e-02 7.73882081e-02]\n",
            " [1.58965607e-02 1.05583309e-01 4.57796784e-02 6.24164613e-02\n",
            "  1.28484174e-04 2.74802719e-03 9.75472946e-02 6.36150077e-01\n",
            "  1.81498279e-02 1.56002800e-02]\n",
            " [1.60004996e-01 1.03793990e-01 1.92005202e-01 4.40857806e-02\n",
            "  4.32194099e-04 2.17881337e-03 1.91619928e-01 7.52123467e-02\n",
            "  9.35092244e-02 1.37157524e-01]\n",
            " [6.98346648e-02 1.40657099e-01 1.56681581e-01 2.08502086e-02\n",
            "  3.83795740e-04 2.26237489e-03 5.05337791e-02 2.16056802e-01\n",
            "  2.02567392e-01 1.40172304e-01]\n",
            " [8.18936504e-02 6.28225264e-02 1.05003365e-01 7.87525241e-02\n",
            "  1.12407449e-01 6.05788647e-03 4.30783038e-02 1.96544761e-01\n",
            "  2.80233341e-01 3.32061925e-02]\n",
            " [2.07666604e-02 2.18326431e-01 3.52386107e-02 3.06852410e-02\n",
            "  3.29442771e-04 2.93086408e-02 5.66759224e-02 5.84243223e-01\n",
            "  8.36549322e-03 1.60603351e-02]\n",
            " [1.33770909e-02 1.54425294e-01 1.56207315e-01 2.47436534e-03\n",
            "  5.11584839e-05 6.06569090e-03 2.33026894e-03 2.64482540e-01\n",
            "  8.73752799e-02 3.13210996e-01]\n",
            " [3.91655996e-02 3.83735819e-02 2.05755483e-01 1.21742920e-01\n",
            "  2.40285422e-04 3.02902879e-02 2.75847665e-01 2.14570261e-01\n",
            "  4.72719980e-02 2.67419191e-02]\n",
            " [4.95398705e-02 7.66207443e-02 5.73792788e-01 2.21296859e-02\n",
            "  1.16905335e-04 1.84908015e-03 5.07402084e-02 1.79347602e-01\n",
            "  3.03163524e-02 1.55467630e-02]\n",
            " [2.00332576e-02 3.26796240e-01 1.56990362e-03 3.63569176e-04\n",
            "  7.86739857e-05 3.67502876e-03 6.46080307e-04 6.45567734e-01\n",
            "  9.53624069e-04 3.15887973e-04]]\n"
          ],
          "name": "stdout"
        }
      ]
    },
    {
      "cell_type": "code",
      "metadata": {
        "id": "RbXzfy6hShtc"
      },
      "source": [
        ""
      ],
      "execution_count": null,
      "outputs": []
    },
    {
      "cell_type": "markdown",
      "metadata": {
        "id": "kWM6PcjX70b8"
      },
      "source": [
        "### Creating Tag priori probabilities"
      ]
    },
    {
      "cell_type": "code",
      "metadata": {
        "id": "uuANu4PY4tym"
      },
      "source": [
        "def create_priori_probabilities(tag_distribution,ind_tags):\n",
        "  # return an array of tag priori probabilities,TPP[num_tags,] based on frequency\n",
        "  num_tags=len(ind_tags)\n",
        "  total_tags=sum([tag_distribution[key] for key in tag_distribution])\n",
        "  TPP=np.zeros(num_tags)\n",
        "  for tag,freq in  tag_distribution.items():\n",
        "    TPP[ind_tags[tag]]=freq/total_tags\n",
        "  return TPP"
      ],
      "execution_count": null,
      "outputs": []
    },
    {
      "cell_type": "code",
      "metadata": {
        "id": "bwEeIULd3uYI"
      },
      "source": [
        "TPP=create_priori_probabilities(tag_distribution,ind_tags)"
      ],
      "execution_count": null,
      "outputs": []
    },
    {
      "cell_type": "code",
      "metadata": {
        "colab": {
          "base_uri": "https://localhost:8080/"
        },
        "id": "qOwIjtd37djW",
        "outputId": "752f5dac-bd40-4519-fabc-ebb0f47fe604"
      },
      "source": [
        "print(TPP.shape)\n",
        "print(np.sum(TPP))\n",
        "print(TPP)"
      ],
      "execution_count": null,
      "outputs": [
        {
          "output_type": "stream",
          "text": [
            "(10,)\n",
            "0.9999999999999999\n",
            "[0.05994497 0.1228528  0.17577649 0.05566172 0.00064587 0.01014239\n",
            " 0.13207776 0.27800052 0.07064012 0.09425736]\n"
          ],
          "name": "stdout"
        }
      ]
    },
    {
      "cell_type": "code",
      "metadata": {
        "id": "6S8wKTat49lQ"
      },
      "source": [
        ""
      ],
      "execution_count": null,
      "outputs": []
    },
    {
      "cell_type": "markdown",
      "metadata": {
        "id": "_rj3B8I5Bk_0"
      },
      "source": [
        "## Model"
      ]
    },
    {
      "cell_type": "markdown",
      "metadata": {
        "id": "pPe0sOp_9-sU"
      },
      "source": [
        "### Viterbi HMM Algorithm"
      ]
    },
    {
      "cell_type": "code",
      "metadata": {
        "id": "DF-XrW_H9__U"
      },
      "source": [
        "def viterbi(inp, TM, EM, TPP=None):\n",
        "    \"\"\"\n",
        "    Return the MAP estimate of state trajectory of Hidden Markov Model.\n",
        "\n",
        "    Parameters\n",
        "    ----------\n",
        "    inp : array (T,)\n",
        "        Observation state sequence. int dtype.\n",
        "    TM : array (K, K)\n",
        "        State transition matrix. See HiddenMarkovModel.state_transition  for\n",
        "        details.\n",
        "    EM : array (K, M)\n",
        "        Emission matrix. See HiddenMarkovModel.emission for details.\n",
        "    TPP: optional, (K,)\n",
        "        Initial state probabilities: TPP[i] is the probability x[0] == i. If\n",
        "        None, uniform initial distribution is assumed (TPP[:] == 1/K).\n",
        "\n",
        "    Returns\n",
        "    -------\n",
        "    out: array (T,)\n",
        "        Maximum a posteriori probability estimate of hidden state trajectory,\n",
        "        conditioned on observation sequence inp under the model parameters TM, EM,\n",
        "        TPP.\n",
        "    T1: array (K, T)\n",
        "        the probability of the most likely path so far\n",
        "    T2: array (K, T)\n",
        "        the x_j-1 of the most likely path so far\n",
        "    \"\"\"\n",
        "    # Cardinality of the state space\n",
        "    K = TM.shape[0]\n",
        "    # Initialize the priors with default (uniform dist) if not given by caller\n",
        "    TPP = TPP if TPP is not None else np.full(K, 1 / K)\n",
        "    T = len(inp)\n",
        "    T1 = np.empty((K, T), 'd')\n",
        "    T2 = np.empty((K, T), 'B')\n",
        "\n",
        "    # Initilaize the tracking tables from first observation\n",
        "    T1[:, 0] = TPP * EM[:, inp[0]]\n",
        "    T2[:, 0] = 0\n",
        "\n",
        "    # Iterate throught the observations updating the tracking tables\n",
        "    for i in range(1, T):\n",
        "        T1[:, i] = np.max(T1[:, i - 1] * TM.T * EM[np.newaxis, :, inp[i]].T, 1)\n",
        "        T2[:, i] = np.argmax(T1[:, i - 1] * TM.T, 1)\n",
        "\n",
        "    # Build the output, optimal model trajectory\n",
        "    out= np.empty(T, 'B')\n",
        "    out[-1] = np.argmax(T1[:, T - 1])\n",
        "    for i in reversed(range(1, T)):\n",
        "        out[i - 1] = T2[out[i], i]\n",
        "\n",
        "    return out, T1, T2"
      ],
      "execution_count": null,
      "outputs": []
    },
    {
      "cell_type": "code",
      "metadata": {
        "id": "Zrk7LIeMQ1Ey"
      },
      "source": [
        ""
      ],
      "execution_count": null,
      "outputs": []
    },
    {
      "cell_type": "markdown",
      "metadata": {
        "id": "O7BNtaleLgaS"
      },
      "source": [
        "### Testing Viterbi\n",
        "\n",
        "predict function returns sequence for POS tags, given a sentence"
      ]
    },
    {
      "cell_type": "code",
      "metadata": {
        "id": "5MGuJc_DRIrs"
      },
      "source": [
        "def predict(q,TM,EM,TPP,ind_hws):\n",
        "  input=np.zeros(len(q),dtype=np.int32)\n",
        "  for i,hw in enumerate(q):\n",
        "    # Out of vocabulary words is marked as '<UNKNOWN>' \n",
        "    if(not (hw in unique_hws)):\n",
        "      hw='<UNKNOWN>'\n",
        "    input[i]=int(ind_hws[hw])\n",
        "  output,T1,T2=viterbi(input, TM, EM, TPP)\n",
        "  ans=[]\n",
        "  for i in output:\n",
        "    ans.append(unique_tags[i])\n",
        "  return ans"
      ],
      "execution_count": null,
      "outputs": []
    },
    {
      "cell_type": "code",
      "metadata": {
        "colab": {
          "base_uri": "https://localhost:8080/"
        },
        "id": "KET9nO4DLkMM",
        "outputId": "1ca9f07c-f4bb-4d90-d10b-847bcd404877"
      },
      "source": [
        "q=sentence_hws[7]\n",
        "a=sentence_tags[7]\n",
        "print(q)\n",
        "print(a)"
      ],
      "execution_count": null,
      "outputs": [
        {
          "output_type": "stream",
          "text": [
            "['britain', 'have', 'a', 'clear', 'choice', 'at', 'this', 'election']\n",
            "['SUBST', 'VERB', 'ART', 'ADJ', 'SUBST', 'PREP', 'ADJ', 'SUBST']\n"
          ],
          "name": "stdout"
        }
      ]
    },
    {
      "cell_type": "code",
      "metadata": {
        "colab": {
          "base_uri": "https://localhost:8080/"
        },
        "id": "7ei1v0yHLwhz",
        "outputId": "cc6810f8-2201-4e9a-adda-12c500e885ff"
      },
      "source": [
        "# q=[]\n",
        "ans=predict(q,TM,EM,TPP,ind_hws)\n",
        "print(ans)"
      ],
      "execution_count": null,
      "outputs": [
        {
          "output_type": "stream",
          "text": [
            "['SUBST', 'VERB', 'ART', 'ADJ', 'SUBST', 'PREP', 'ADJ', 'SUBST']\n"
          ],
          "name": "stdout"
        }
      ]
    },
    {
      "cell_type": "code",
      "metadata": {
        "id": "0AEY0afON0sz"
      },
      "source": [
        ""
      ],
      "execution_count": null,
      "outputs": []
    },
    {
      "cell_type": "markdown",
      "metadata": {
        "id": "cIIGL2WuPLxd"
      },
      "source": [
        "# Running Model and Analysis Parts"
      ]
    },
    {
      "cell_type": "markdown",
      "metadata": {
        "id": "TraWTkfvQ_Cu"
      },
      "source": [
        "## For Training set"
      ]
    },
    {
      "cell_type": "markdown",
      "metadata": {
        "id": "zQWPem-iCFzr"
      },
      "source": [
        "### Running Model and Generating prediction"
      ]
    },
    {
      "cell_type": "code",
      "metadata": {
        "colab": {
          "base_uri": "https://localhost:8080/"
        },
        "id": "Z6aCxCuxQ-sC",
        "outputId": "aba394f5-f6f5-41c5-ce2b-e941ce33eb3b"
      },
      "source": [
        "prediction_tags=[]\n",
        "for sen in tqdm(sentence_hws):\n",
        "  ans=predict(sen,TM,EM,TPP,ind_hws)\n",
        "  prediction_tags.append(ans)"
      ],
      "execution_count": null,
      "outputs": [
        {
          "output_type": "stream",
          "text": [
            "100%|██████████| 481637/481637 [02:36<00:00, 3075.88it/s]\n"
          ],
          "name": "stderr"
        }
      ]
    },
    {
      "cell_type": "code",
      "metadata": {
        "colab": {
          "base_uri": "https://localhost:8080/"
        },
        "id": "pphxN7Qd4W52",
        "outputId": "c0e2984c-966e-489d-9361-0bf9a97d108d"
      },
      "source": [
        "print(sentence_tags[:5])\n",
        "print(prediction_tags[:5])"
      ],
      "execution_count": null,
      "outputs": [
        {
          "output_type": "stream",
          "text": [
            "[\"['VERB', 'VERB', 'ADJ', 'SUBST', 'VERB', 'ADV', 'VERB', 'PRON', 'PRON', 'VERB']\", \"['SUBST']\", \"['ADJ', 'SUBST', 'VERB', 'ADV', 'VERB', 'ADJ', 'SUBST', 'ADV', 'PREP', 'ART', 'SUBST']\", \"['PRON', 'VERB', 'ADV', 'VERB', 'ADJ', 'SUBST', 'SUBST', 'PREP', 'SUBST']\", \"['PRON', 'ADV', 'VERB', 'ART', 'SUBST', 'ART', 'SUBST', 'PREP', 'PRON', 'ADJ', 'SUBST', 'VERB', 'VERB', 'PREP', 'VERB', 'VERB', 'PREP', 'SUBST', 'PREP', 'VERB']\"]\n",
            "[['VERB', 'VERB', 'ADJ', 'SUBST', 'VERB', 'ADV', 'VERB', 'PRON', 'PRON', 'VERB'], ['SUBST'], ['ADJ', 'SUBST', 'VERB', 'ADV', 'VERB', 'ADJ', 'SUBST', 'ADV', 'PREP', 'ART', 'SUBST'], ['PRON', 'VERB', 'ADV', 'VERB', 'ADJ', 'SUBST', 'SUBST', 'PREP', 'SUBST'], ['PRON', 'ADV', 'VERB', 'ART', 'SUBST', 'ART', 'SUBST', 'PREP', 'PRON', 'ADJ', 'SUBST', 'VERB', 'VERB', 'PREP', 'VERB', 'VERB', 'PREP', 'SUBST', 'PREP', 'VERB']]\n"
          ],
          "name": "stdout"
        }
      ]
    },
    {
      "cell_type": "code",
      "metadata": {
        "colab": {
          "base_uri": "https://localhost:8080/"
        },
        "id": "jIgHH3ypQ-nU",
        "outputId": "e34009de-8fbd-4f58-b626-58a455bb26a5"
      },
      "source": [
        "print(len(sentence_tags),len(prediction_tags))"
      ],
      "execution_count": null,
      "outputs": [
        {
          "output_type": "stream",
          "text": [
            "481637 481637\n"
          ],
          "name": "stdout"
        }
      ]
    },
    {
      "cell_type": "markdown",
      "metadata": {
        "id": "V9IRJw3HB5vZ"
      },
      "source": [
        "### Saving Training Result"
      ]
    },
    {
      "cell_type": "code",
      "metadata": {
        "id": "JLKg3GnlQ-kg"
      },
      "source": [
        "result={'Sentence Tags':sentence_tags,'Predicted Tags':prediction_tags}"
      ],
      "execution_count": null,
      "outputs": []
    },
    {
      "cell_type": "code",
      "metadata": {
        "colab": {
          "base_uri": "https://localhost:8080/"
        },
        "id": "bZ1MT0oLXege",
        "outputId": "eab74e25-eedf-4d25-e947-d55d85ce821f"
      },
      "source": [
        "ls"
      ],
      "execution_count": null,
      "outputs": [
        {
          "output_type": "stream",
          "text": [
            "Assigment.pdf                 Test_Result_sentencewise.gsheet\n",
            "\u001b[0m\u001b[01;34mResults\u001b[0m/                      \u001b[01;34mTrain-corups\u001b[0m/\n",
            "\u001b[01;34mTest-corpus\u001b[0m/                  Training_Result.csv\n",
            "Test_Result.csv               Training_Result_sentencewise.csv\n",
            "Test_Result_sentencewise.csv\n"
          ],
          "name": "stdout"
        }
      ]
    },
    {
      "cell_type": "code",
      "metadata": {
        "id": "o_7mGe8oWoXn"
      },
      "source": [
        "df =  pd.DataFrame(result)\n",
        "df.to_csv(\"Training_Result_sentencewise.csv\")"
      ],
      "execution_count": null,
      "outputs": []
    },
    {
      "cell_type": "code",
      "metadata": {
        "id": "04rHeaykYq8Q"
      },
      "source": [
        "taglist=[]\n",
        "predictions=[]"
      ],
      "execution_count": null,
      "outputs": []
    },
    {
      "cell_type": "code",
      "metadata": {
        "id": "IcG4IFGMXxxd"
      },
      "source": [
        "false_count=0\n",
        "for sen,pred in zip(sentence_tags,prediction_tags):\n",
        "  for tag,prediction in zip(sen,pred):\n",
        "    taglist.append(tag)\n",
        "    predictions.append(prediction)\n",
        "    if(prediction!=tag): false_count+=1"
      ],
      "execution_count": null,
      "outputs": []
    },
    {
      "cell_type": "code",
      "metadata": {
        "colab": {
          "base_uri": "https://localhost:8080/"
        },
        "id": "_dGVq4SMZHp1",
        "outputId": "dfb1ed56-b741-470c-958f-c8115166e6f0"
      },
      "source": [
        "print(len(taglist),len(predictions),false_count)\n",
        "print(\"Accuracy is \",(1-false_count/len(taglist)))"
      ],
      "execution_count": null,
      "outputs": [
        {
          "output_type": "stream",
          "text": [
            "8904217 8904217 326005\n",
            "Accuracy is  0.963387572427761\n"
          ],
          "name": "stdout"
        }
      ]
    },
    {
      "cell_type": "code",
      "metadata": {
        "id": "45otXLCxZViJ"
      },
      "source": [
        "df2=pd.DataFrame({'Tags':taglist,'Prediction':predictions})\n",
        "df2.to_csv(\"Training_Result.csv\")"
      ],
      "execution_count": null,
      "outputs": []
    },
    {
      "cell_type": "code",
      "metadata": {
        "id": "-qLZxmHt3qGw"
      },
      "source": [
        ""
      ],
      "execution_count": null,
      "outputs": []
    },
    {
      "cell_type": "markdown",
      "metadata": {
        "id": "7-y9vKPL9nmm"
      },
      "source": [
        "### Confusion Matrix and report for Training"
      ]
    },
    {
      "cell_type": "code",
      "metadata": {
        "id": "xGEZCoLW9nmm"
      },
      "source": [
        "# Importing the dependancies\n",
        "from sklearn import metrics\n",
        "\n",
        "# The confusion matrix\n",
        "# The columns will show the instances predicted for each label,\n",
        "# and the rows will show the actual number of instances for each label.\n",
        "train_cf_matrix=metrics.confusion_matrix(y_true=taglist,y_pred=predictions, labels=unique_tags)"
      ],
      "execution_count": null,
      "outputs": []
    },
    {
      "cell_type": "code",
      "metadata": {
        "colab": {
          "base_uri": "https://localhost:8080/"
        },
        "id": "7971lmsU-0yD",
        "outputId": "5ca5335b-8de6-48c3-b685-1a8d15f9a3a1"
      },
      "source": [
        "print(train_cf_matrix)"
      ],
      "execution_count": null,
      "outputs": [
        {
          "output_type": "stream",
          "text": [
            "[[ 473694      55       0   11246       0      55    6504    4069       1\n",
            "        0]\n",
            " [    359 1486648      28    1240      78   70143    5707     876      20\n",
            "       53]\n",
            " [     89      12  624571       0       0     142    3996     185       0\n",
            "        0]\n",
            " [   8194    1112       0 1161059       1     229     289    5160       5\n",
            "        0]\n",
            " [     20      39       0      14    4706     224      56      38       8\n",
            "      646]\n",
            " [   1579   55774     608     446      68 2377335   34659    1846    1413\n",
            "     1649]\n",
            " [  13027    6087     882     492      12   13571 1041684   18146       7\n",
            "        0]\n",
            " [  12684     742    3088   17083       5    1996   17963  480099       0\n",
            "      103]\n",
            " [     98      19      16      18       5     552      27       6   89555\n",
            "       14]\n",
            " [    225       6       1       2      25     144       1      23       0\n",
            "   838861]]\n"
          ],
          "name": "stdout"
        }
      ]
    },
    {
      "cell_type": "code",
      "metadata": {
        "id": "AzepbUAi9nmm"
      },
      "source": [
        "# Printing the precision and recall, among other metrics\n",
        "train_report=metrics.classification_report(y_true=taglist, y_pred=predictions, labels=unique_tags)"
      ],
      "execution_count": null,
      "outputs": []
    },
    {
      "cell_type": "code",
      "metadata": {
        "colab": {
          "base_uri": "https://localhost:8080/"
        },
        "id": "39QV805L9nmm",
        "outputId": "0771e9eb-bef8-4ff3-c215-335f45f791c1"
      },
      "source": [
        "print(type(train_report))\n",
        "print(train_report)"
      ],
      "execution_count": null,
      "outputs": [
        {
          "output_type": "stream",
          "text": [
            "<class 'str'>\n",
            "              precision    recall  f1-score   support\n",
            "\n",
            "        CONJ       0.93      0.96      0.94    495624\n",
            "        VERB       0.96      0.95      0.95   1565152\n",
            "        PRON       0.99      0.99      0.99    628995\n",
            "        PREP       0.97      0.99      0.98   1176049\n",
            "      INTERJ       0.96      0.82      0.88      5751\n",
            "       SUBST       0.96      0.96      0.96   2475377\n",
            "         ADJ       0.94      0.95      0.94   1093908\n",
            "         ADV       0.94      0.90      0.92    533763\n",
            "         UNC       0.98      0.99      0.99     90310\n",
            "         ART       1.00      1.00      1.00    839288\n",
            "\n",
            "    accuracy                           0.96   8904217\n",
            "   macro avg       0.96      0.95      0.96   8904217\n",
            "weighted avg       0.96      0.96      0.96   8904217\n",
            "\n"
          ],
          "name": "stdout"
        }
      ]
    },
    {
      "cell_type": "code",
      "metadata": {
        "id": "2Y0uMqL49nmm"
      },
      "source": [
        "report_df=pd.DataFrame(train_cf_matrix,index=unique_tags,columns=unique_tags)"
      ],
      "execution_count": null,
      "outputs": []
    },
    {
      "cell_type": "code",
      "metadata": {
        "colab": {
          "base_uri": "https://localhost:8080/",
          "height": 343
        },
        "id": "c0xrahgM9nmm",
        "outputId": "ba37fdb4-e83e-4048-c09b-ab9a1352a234"
      },
      "source": [
        "report_df"
      ],
      "execution_count": null,
      "outputs": [
        {
          "output_type": "execute_result",
          "data": {
            "text/html": [
              "<div>\n",
              "<style scoped>\n",
              "    .dataframe tbody tr th:only-of-type {\n",
              "        vertical-align: middle;\n",
              "    }\n",
              "\n",
              "    .dataframe tbody tr th {\n",
              "        vertical-align: top;\n",
              "    }\n",
              "\n",
              "    .dataframe thead th {\n",
              "        text-align: right;\n",
              "    }\n",
              "</style>\n",
              "<table border=\"1\" class=\"dataframe\">\n",
              "  <thead>\n",
              "    <tr style=\"text-align: right;\">\n",
              "      <th></th>\n",
              "      <th>CONJ</th>\n",
              "      <th>VERB</th>\n",
              "      <th>PRON</th>\n",
              "      <th>PREP</th>\n",
              "      <th>INTERJ</th>\n",
              "      <th>SUBST</th>\n",
              "      <th>ADJ</th>\n",
              "      <th>ADV</th>\n",
              "      <th>UNC</th>\n",
              "      <th>ART</th>\n",
              "    </tr>\n",
              "  </thead>\n",
              "  <tbody>\n",
              "    <tr>\n",
              "      <th>CONJ</th>\n",
              "      <td>473694</td>\n",
              "      <td>55</td>\n",
              "      <td>0</td>\n",
              "      <td>11246</td>\n",
              "      <td>0</td>\n",
              "      <td>55</td>\n",
              "      <td>6504</td>\n",
              "      <td>4069</td>\n",
              "      <td>1</td>\n",
              "      <td>0</td>\n",
              "    </tr>\n",
              "    <tr>\n",
              "      <th>VERB</th>\n",
              "      <td>359</td>\n",
              "      <td>1486648</td>\n",
              "      <td>28</td>\n",
              "      <td>1240</td>\n",
              "      <td>78</td>\n",
              "      <td>70143</td>\n",
              "      <td>5707</td>\n",
              "      <td>876</td>\n",
              "      <td>20</td>\n",
              "      <td>53</td>\n",
              "    </tr>\n",
              "    <tr>\n",
              "      <th>PRON</th>\n",
              "      <td>89</td>\n",
              "      <td>12</td>\n",
              "      <td>624571</td>\n",
              "      <td>0</td>\n",
              "      <td>0</td>\n",
              "      <td>142</td>\n",
              "      <td>3996</td>\n",
              "      <td>185</td>\n",
              "      <td>0</td>\n",
              "      <td>0</td>\n",
              "    </tr>\n",
              "    <tr>\n",
              "      <th>PREP</th>\n",
              "      <td>8194</td>\n",
              "      <td>1112</td>\n",
              "      <td>0</td>\n",
              "      <td>1161059</td>\n",
              "      <td>1</td>\n",
              "      <td>229</td>\n",
              "      <td>289</td>\n",
              "      <td>5160</td>\n",
              "      <td>5</td>\n",
              "      <td>0</td>\n",
              "    </tr>\n",
              "    <tr>\n",
              "      <th>INTERJ</th>\n",
              "      <td>20</td>\n",
              "      <td>39</td>\n",
              "      <td>0</td>\n",
              "      <td>14</td>\n",
              "      <td>4706</td>\n",
              "      <td>224</td>\n",
              "      <td>56</td>\n",
              "      <td>38</td>\n",
              "      <td>8</td>\n",
              "      <td>646</td>\n",
              "    </tr>\n",
              "    <tr>\n",
              "      <th>SUBST</th>\n",
              "      <td>1579</td>\n",
              "      <td>55774</td>\n",
              "      <td>608</td>\n",
              "      <td>446</td>\n",
              "      <td>68</td>\n",
              "      <td>2377335</td>\n",
              "      <td>34659</td>\n",
              "      <td>1846</td>\n",
              "      <td>1413</td>\n",
              "      <td>1649</td>\n",
              "    </tr>\n",
              "    <tr>\n",
              "      <th>ADJ</th>\n",
              "      <td>13027</td>\n",
              "      <td>6087</td>\n",
              "      <td>882</td>\n",
              "      <td>492</td>\n",
              "      <td>12</td>\n",
              "      <td>13571</td>\n",
              "      <td>1041684</td>\n",
              "      <td>18146</td>\n",
              "      <td>7</td>\n",
              "      <td>0</td>\n",
              "    </tr>\n",
              "    <tr>\n",
              "      <th>ADV</th>\n",
              "      <td>12684</td>\n",
              "      <td>742</td>\n",
              "      <td>3088</td>\n",
              "      <td>17083</td>\n",
              "      <td>5</td>\n",
              "      <td>1996</td>\n",
              "      <td>17963</td>\n",
              "      <td>480099</td>\n",
              "      <td>0</td>\n",
              "      <td>103</td>\n",
              "    </tr>\n",
              "    <tr>\n",
              "      <th>UNC</th>\n",
              "      <td>98</td>\n",
              "      <td>19</td>\n",
              "      <td>16</td>\n",
              "      <td>18</td>\n",
              "      <td>5</td>\n",
              "      <td>552</td>\n",
              "      <td>27</td>\n",
              "      <td>6</td>\n",
              "      <td>89555</td>\n",
              "      <td>14</td>\n",
              "    </tr>\n",
              "    <tr>\n",
              "      <th>ART</th>\n",
              "      <td>225</td>\n",
              "      <td>6</td>\n",
              "      <td>1</td>\n",
              "      <td>2</td>\n",
              "      <td>25</td>\n",
              "      <td>144</td>\n",
              "      <td>1</td>\n",
              "      <td>23</td>\n",
              "      <td>0</td>\n",
              "      <td>838861</td>\n",
              "    </tr>\n",
              "  </tbody>\n",
              "</table>\n",
              "</div>"
            ],
            "text/plain": [
              "          CONJ     VERB    PRON     PREP  ...      ADJ     ADV    UNC     ART\n",
              "CONJ    473694       55       0    11246  ...     6504    4069      1       0\n",
              "VERB       359  1486648      28     1240  ...     5707     876     20      53\n",
              "PRON        89       12  624571        0  ...     3996     185      0       0\n",
              "PREP      8194     1112       0  1161059  ...      289    5160      5       0\n",
              "INTERJ      20       39       0       14  ...       56      38      8     646\n",
              "SUBST     1579    55774     608      446  ...    34659    1846   1413    1649\n",
              "ADJ      13027     6087     882      492  ...  1041684   18146      7       0\n",
              "ADV      12684      742    3088    17083  ...    17963  480099      0     103\n",
              "UNC         98       19      16       18  ...       27       6  89555      14\n",
              "ART        225        6       1        2  ...        1      23      0  838861\n",
              "\n",
              "[10 rows x 10 columns]"
            ]
          },
          "metadata": {
            "tags": []
          },
          "execution_count": 166
        }
      ]
    },
    {
      "cell_type": "code",
      "metadata": {
        "id": "epmfnpikVjMD"
      },
      "source": [
        "report_df.to_csv('Train_confusion_matrix.csv')"
      ],
      "execution_count": null,
      "outputs": []
    },
    {
      "cell_type": "code",
      "metadata": {
        "id": "BRB6rliAXOzq"
      },
      "source": [
        ""
      ],
      "execution_count": null,
      "outputs": []
    },
    {
      "cell_type": "markdown",
      "metadata": {
        "id": "F9pJNJUja4N-"
      },
      "source": [
        "## For Test dataset"
      ]
    },
    {
      "cell_type": "markdown",
      "metadata": {
        "id": "HEGARgcoQVtd"
      },
      "source": [
        "### Read Test-corpus\n"
      ]
    },
    {
      "cell_type": "code",
      "metadata": {
        "colab": {
          "base_uri": "https://localhost:8080/"
        },
        "id": "iNKHlCGtbdTa",
        "outputId": "89946fba-8d2b-4533-bbe1-ed87bc58879b"
      },
      "source": [
        "ls"
      ],
      "execution_count": null,
      "outputs": [
        {
          "output_type": "stream",
          "text": [
            "Assigment.pdf  \u001b[0m\u001b[01;34mTrain-corups\u001b[0m/        Training_Result_sentencewise.csv\n",
            "\u001b[01;34mTest-corpus\u001b[0m/   Training_Result.csv\n"
          ],
          "name": "stdout"
        }
      ]
    },
    {
      "cell_type": "code",
      "metadata": {
        "colab": {
          "base_uri": "https://localhost:8080/"
        },
        "id": "xaN2AYlSQVE1",
        "outputId": "8c63a517-b2a4-404d-ba12-19deaa24bc16"
      },
      "source": [
        "cnt = 0\n",
        "test_dictionary = [[],[]] # [[hw],[tag]]\n",
        "test_sentences=[] # list of sentences as it is\n",
        "test_sentence_hws=[] # list of sentences in hw\n",
        "test_sentence_tags=[] # list of corresponding tags\n",
        "test_dir  = path_to_project_folder+\"/Test-corpus\"\n",
        "for subdir, dirs, files in os.walk(test_dir):\n",
        "    file_cnt=0\n",
        "    for file in files:\n",
        "      parse_file(os.path.join(subdir, file),test_sentences,test_sentence_hws,test_sentence_tags,test_dictionary)\n",
        "      # print(os.path.join(subdir, file))\n",
        "      file_cnt+=1\n",
        "    cnt+=file_cnt\n",
        "    print(\"Number of files processed - \",file_cnt)\n",
        "print(cnt)"
      ],
      "execution_count": null,
      "outputs": [
        {
          "output_type": "stream",
          "text": [
            "Number of files processed -  0\n",
            "Number of files processed -  10\n",
            "Number of files processed -  6\n",
            "Number of files processed -  24\n",
            "Number of files processed -  26\n",
            "Number of files processed -  26\n",
            "Number of files processed -  23\n",
            "115\n"
          ],
          "name": "stdout"
        }
      ]
    },
    {
      "cell_type": "code",
      "metadata": {
        "colab": {
          "base_uri": "https://localhost:8080/"
        },
        "id": "joItY3gwQNn8",
        "outputId": "27a810f6-2db7-46d5-e77e-25db1912f98d"
      },
      "source": [
        "print(len(test_dictionary),len(test_dictionary[0]),len(test_dictionary[1]),len(test_sentences),len(test_sentence_hws),len(test_sentence_tags))\n",
        "print(test_sentences[0])\n",
        "print(test_sentence_hws[0])\n",
        "print(test_sentence_tags[0])"
      ],
      "execution_count": null,
      "outputs": [
        {
          "output_type": "stream",
          "text": [
            "2 3536068 3536068 199743 199743 199743\n",
            "['‘', 'The ', 'ideal ', 'introduction ', 'to ', 'discussion ', 'and ', 'debate ', 'at ', 'parish', ', ', 'deanery ', 'and ', 'synod ', 'level', '.']\n",
            "['the', 'ideal', 'introduction', 'to', 'discussion', 'and', 'debate', 'at', 'parish', 'deanery', 'and', 'synod', 'level']\n",
            "['ART', 'ADJ', 'SUBST', 'PREP', 'SUBST', 'CONJ', 'SUBST', 'PREP', 'SUBST', 'SUBST', 'CONJ', 'SUBST', 'SUBST']\n"
          ],
          "name": "stdout"
        }
      ]
    },
    {
      "cell_type": "markdown",
      "metadata": {
        "id": "qfoLqHi9ebqm"
      },
      "source": [
        "### Running Model and Generating Test Predictions"
      ]
    },
    {
      "cell_type": "code",
      "metadata": {
        "id": "MnSpR1eNQNgy"
      },
      "source": [
        "test_prediction_tags=[]\n",
        "for sen in tqdm(test_sentence_hws):\n",
        "  if(len(sen)==0):\n",
        "    continue\n",
        "  ans=predict(sen,TM,EM,TPP,ind_hws)\n",
        "  test_prediction_tags.append(ans)"
      ],
      "execution_count": null,
      "outputs": []
    },
    {
      "cell_type": "code",
      "metadata": {
        "colab": {
          "base_uri": "https://localhost:8080/"
        },
        "id": "P0ZklacPQMrw",
        "outputId": "2d54e388-a675-41ae-e722-798425b6d722"
      },
      "source": [
        "print(len(test_sentence_tags),len(test_prediction_tags))"
      ],
      "execution_count": null,
      "outputs": [
        {
          "output_type": "stream",
          "text": [
            "199743 199743\n"
          ],
          "name": "stdout"
        }
      ]
    },
    {
      "cell_type": "markdown",
      "metadata": {
        "id": "Qf2he3RXCU_z"
      },
      "source": [
        "### Saving Test Predictions"
      ]
    },
    {
      "cell_type": "code",
      "metadata": {
        "id": "W3jTh00gQMpv"
      },
      "source": [
        "test_result={'Sentence Tags':test_sentence_tags,'Predicted Tags':test_prediction_tags}\n",
        "test_df =  pd.DataFrame(test_result)\n",
        "test_df.to_csv(\"Test_Result_sentencewise.csv\")"
      ],
      "execution_count": null,
      "outputs": []
    },
    {
      "cell_type": "code",
      "metadata": {
        "id": "wTwFLrmAQMjz"
      },
      "source": [
        "test_taglist=[]\n",
        "test_predictions=[]"
      ],
      "execution_count": null,
      "outputs": []
    },
    {
      "cell_type": "code",
      "metadata": {
        "id": "x47Nh4JLQMgp"
      },
      "source": [
        "test_false_count=0\n",
        "for sen,pred in zip(test_sentence_tags,test_prediction_tags):\n",
        "  for tag,prediction in zip(sen,pred):\n",
        "    test_taglist.append(tag)\n",
        "    test_predictions.append(prediction)\n",
        "    if(prediction!=tag): test_false_count+=1"
      ],
      "execution_count": null,
      "outputs": []
    },
    {
      "cell_type": "code",
      "metadata": {
        "id": "Ak2K5WqyN0p_",
        "colab": {
          "base_uri": "https://localhost:8080/"
        },
        "outputId": "28747c5a-0497-466b-b8ca-77520c6ce14f"
      },
      "source": [
        "print(len(test_taglist),len(test_predictions),test_false_count)\n",
        "print(\"Accuracy is \",(1-test_false_count/len(test_taglist)))"
      ],
      "execution_count": null,
      "outputs": [
        {
          "output_type": "stream",
          "text": [
            "3536068 3536068 158574\n",
            "Accuracy is  0.9551552741632796\n"
          ],
          "name": "stdout"
        }
      ]
    },
    {
      "cell_type": "code",
      "metadata": {
        "id": "AkPu2mbor7Eh"
      },
      "source": [
        "test_df2=pd.DataFrame({'Tags':test_taglist,'Prediction':test_predictions})\n",
        "test_df2.to_csv(\"Test_Result.csv\")"
      ],
      "execution_count": null,
      "outputs": []
    },
    {
      "cell_type": "code",
      "metadata": {
        "id": "ha2bAoEhtLD5"
      },
      "source": [
        ""
      ],
      "execution_count": null,
      "outputs": []
    },
    {
      "cell_type": "markdown",
      "metadata": {
        "id": "Ad_4P0VYtKk5"
      },
      "source": [
        "### Confusion Matrix and report for test-corpus"
      ]
    },
    {
      "cell_type": "code",
      "metadata": {
        "id": "adI16dV9uyyZ"
      },
      "source": [
        "# Importing the dependancies\n",
        "from sklearn import metrics\n",
        "\n",
        "# The confusion matrix\n",
        "# The columns will show the instances predicted for each label,\n",
        "# and the rows will show the actual number of instances for each label.\n",
        "cf_matrix=metrics.confusion_matrix(y_true=test_taglist,y_pred=test_predictions, labels=unique_tags)"
      ],
      "execution_count": null,
      "outputs": []
    },
    {
      "cell_type": "code",
      "metadata": {
        "colab": {
          "base_uri": "https://localhost:8080/"
        },
        "id": "t6luGncx_He0",
        "outputId": "8058d4be-d9b8-41fc-d3da-cb18464c91b5"
      },
      "source": [
        "print(cf_matrix)"
      ],
      "execution_count": null,
      "outputs": [
        {
          "output_type": "stream",
          "text": [
            "[[200582     16      0   4476      0     17   2117   2083      0      0]\n",
            " [   261 615233     24    682     11  27190   2506    290      5    215]\n",
            " [   113     14 276566      2      0     75   1815    155      0      3]\n",
            " [  2911    446      0 461406      0     91    128   2306      0      8]\n",
            " [     0     32      2      4   3100    128    102     15      1    418]\n",
            " [  1067  25529   1566   4190     45 852288  15561    894    413   4687]\n",
            " [  5450   3160    568    876      8   8280 401367   7556      6   2052]\n",
            " [  5131    411   1442   7195      3    976   7596 207245      0    102]\n",
            " [   123    333     54    953      9   2247    471     23  21345    731]\n",
            " [   122      3      0      1     17     53      0      8      0 338362]]\n"
          ],
          "name": "stdout"
        }
      ]
    },
    {
      "cell_type": "code",
      "metadata": {
        "id": "A3vawLXLw6HC"
      },
      "source": [
        "# Printing the precision and recall, among other metrics\n",
        "report=metrics.classification_report(y_true=test_taglist, y_pred=test_predictions, labels=unique_tags)"
      ],
      "execution_count": null,
      "outputs": []
    },
    {
      "cell_type": "code",
      "metadata": {
        "colab": {
          "base_uri": "https://localhost:8080/"
        },
        "id": "PHbpaTCTxbW4",
        "outputId": "7ca1d60a-4c97-4622-ef5c-841bee43e521"
      },
      "source": [
        "print(type(report))\n",
        "print(report)"
      ],
      "execution_count": null,
      "outputs": [
        {
          "output_type": "stream",
          "text": [
            "<class 'str'>\n",
            "              precision    recall  f1-score   support\n",
            "\n",
            "        CONJ       0.93      0.96      0.94    209291\n",
            "        VERB       0.95      0.95      0.95    646417\n",
            "        PRON       0.99      0.99      0.99    278743\n",
            "        PREP       0.96      0.99      0.97    467296\n",
            "      INTERJ       0.97      0.82      0.89      3802\n",
            "       SUBST       0.96      0.94      0.95    906240\n",
            "         ADJ       0.93      0.93      0.93    429323\n",
            "         ADV       0.94      0.90      0.92    230101\n",
            "         UNC       0.98      0.81      0.89     26289\n",
            "         ART       0.98      1.00      0.99    338566\n",
            "\n",
            "    accuracy                           0.96   3536068\n",
            "   macro avg       0.96      0.93      0.94   3536068\n",
            "weighted avg       0.96      0.96      0.95   3536068\n",
            "\n"
          ],
          "name": "stdout"
        }
      ]
    },
    {
      "cell_type": "code",
      "metadata": {
        "id": "_rmEAUZZxbT2"
      },
      "source": [
        "test_report_df=pd.DataFrame(cf_matrix,index=unique_tags,columns=unique_tags)"
      ],
      "execution_count": null,
      "outputs": []
    },
    {
      "cell_type": "code",
      "metadata": {
        "colab": {
          "base_uri": "https://localhost:8080/",
          "height": 343
        },
        "id": "leSBaWeDxbQr",
        "outputId": "cefcc06b-7cc1-43d7-e3a0-03f5ce870230"
      },
      "source": [
        "test_report_df"
      ],
      "execution_count": null,
      "outputs": [
        {
          "output_type": "execute_result",
          "data": {
            "text/html": [
              "<div>\n",
              "<style scoped>\n",
              "    .dataframe tbody tr th:only-of-type {\n",
              "        vertical-align: middle;\n",
              "    }\n",
              "\n",
              "    .dataframe tbody tr th {\n",
              "        vertical-align: top;\n",
              "    }\n",
              "\n",
              "    .dataframe thead th {\n",
              "        text-align: right;\n",
              "    }\n",
              "</style>\n",
              "<table border=\"1\" class=\"dataframe\">\n",
              "  <thead>\n",
              "    <tr style=\"text-align: right;\">\n",
              "      <th></th>\n",
              "      <th>CONJ</th>\n",
              "      <th>VERB</th>\n",
              "      <th>PRON</th>\n",
              "      <th>PREP</th>\n",
              "      <th>INTERJ</th>\n",
              "      <th>SUBST</th>\n",
              "      <th>ADJ</th>\n",
              "      <th>ADV</th>\n",
              "      <th>UNC</th>\n",
              "      <th>ART</th>\n",
              "    </tr>\n",
              "  </thead>\n",
              "  <tbody>\n",
              "    <tr>\n",
              "      <th>CONJ</th>\n",
              "      <td>200582</td>\n",
              "      <td>16</td>\n",
              "      <td>0</td>\n",
              "      <td>4476</td>\n",
              "      <td>0</td>\n",
              "      <td>17</td>\n",
              "      <td>2117</td>\n",
              "      <td>2083</td>\n",
              "      <td>0</td>\n",
              "      <td>0</td>\n",
              "    </tr>\n",
              "    <tr>\n",
              "      <th>VERB</th>\n",
              "      <td>261</td>\n",
              "      <td>615233</td>\n",
              "      <td>24</td>\n",
              "      <td>682</td>\n",
              "      <td>11</td>\n",
              "      <td>27190</td>\n",
              "      <td>2506</td>\n",
              "      <td>290</td>\n",
              "      <td>5</td>\n",
              "      <td>215</td>\n",
              "    </tr>\n",
              "    <tr>\n",
              "      <th>PRON</th>\n",
              "      <td>113</td>\n",
              "      <td>14</td>\n",
              "      <td>276566</td>\n",
              "      <td>2</td>\n",
              "      <td>0</td>\n",
              "      <td>75</td>\n",
              "      <td>1815</td>\n",
              "      <td>155</td>\n",
              "      <td>0</td>\n",
              "      <td>3</td>\n",
              "    </tr>\n",
              "    <tr>\n",
              "      <th>PREP</th>\n",
              "      <td>2911</td>\n",
              "      <td>446</td>\n",
              "      <td>0</td>\n",
              "      <td>461406</td>\n",
              "      <td>0</td>\n",
              "      <td>91</td>\n",
              "      <td>128</td>\n",
              "      <td>2306</td>\n",
              "      <td>0</td>\n",
              "      <td>8</td>\n",
              "    </tr>\n",
              "    <tr>\n",
              "      <th>INTERJ</th>\n",
              "      <td>0</td>\n",
              "      <td>32</td>\n",
              "      <td>2</td>\n",
              "      <td>4</td>\n",
              "      <td>3100</td>\n",
              "      <td>128</td>\n",
              "      <td>102</td>\n",
              "      <td>15</td>\n",
              "      <td>1</td>\n",
              "      <td>418</td>\n",
              "    </tr>\n",
              "    <tr>\n",
              "      <th>SUBST</th>\n",
              "      <td>1067</td>\n",
              "      <td>25529</td>\n",
              "      <td>1566</td>\n",
              "      <td>4190</td>\n",
              "      <td>45</td>\n",
              "      <td>852288</td>\n",
              "      <td>15561</td>\n",
              "      <td>894</td>\n",
              "      <td>413</td>\n",
              "      <td>4687</td>\n",
              "    </tr>\n",
              "    <tr>\n",
              "      <th>ADJ</th>\n",
              "      <td>5450</td>\n",
              "      <td>3160</td>\n",
              "      <td>568</td>\n",
              "      <td>876</td>\n",
              "      <td>8</td>\n",
              "      <td>8280</td>\n",
              "      <td>401367</td>\n",
              "      <td>7556</td>\n",
              "      <td>6</td>\n",
              "      <td>2052</td>\n",
              "    </tr>\n",
              "    <tr>\n",
              "      <th>ADV</th>\n",
              "      <td>5131</td>\n",
              "      <td>411</td>\n",
              "      <td>1442</td>\n",
              "      <td>7195</td>\n",
              "      <td>3</td>\n",
              "      <td>976</td>\n",
              "      <td>7596</td>\n",
              "      <td>207245</td>\n",
              "      <td>0</td>\n",
              "      <td>102</td>\n",
              "    </tr>\n",
              "    <tr>\n",
              "      <th>UNC</th>\n",
              "      <td>123</td>\n",
              "      <td>333</td>\n",
              "      <td>54</td>\n",
              "      <td>953</td>\n",
              "      <td>9</td>\n",
              "      <td>2247</td>\n",
              "      <td>471</td>\n",
              "      <td>23</td>\n",
              "      <td>21345</td>\n",
              "      <td>731</td>\n",
              "    </tr>\n",
              "    <tr>\n",
              "      <th>ART</th>\n",
              "      <td>122</td>\n",
              "      <td>3</td>\n",
              "      <td>0</td>\n",
              "      <td>1</td>\n",
              "      <td>17</td>\n",
              "      <td>53</td>\n",
              "      <td>0</td>\n",
              "      <td>8</td>\n",
              "      <td>0</td>\n",
              "      <td>338362</td>\n",
              "    </tr>\n",
              "  </tbody>\n",
              "</table>\n",
              "</div>"
            ],
            "text/plain": [
              "          CONJ    VERB    PRON    PREP  ...     ADJ     ADV    UNC     ART\n",
              "CONJ    200582      16       0    4476  ...    2117    2083      0       0\n",
              "VERB       261  615233      24     682  ...    2506     290      5     215\n",
              "PRON       113      14  276566       2  ...    1815     155      0       3\n",
              "PREP      2911     446       0  461406  ...     128    2306      0       8\n",
              "INTERJ       0      32       2       4  ...     102      15      1     418\n",
              "SUBST     1067   25529    1566    4190  ...   15561     894    413    4687\n",
              "ADJ       5450    3160     568     876  ...  401367    7556      6    2052\n",
              "ADV       5131     411    1442    7195  ...    7596  207245      0     102\n",
              "UNC        123     333      54     953  ...     471      23  21345     731\n",
              "ART        122       3       0       1  ...       0       8      0  338362\n",
              "\n",
              "[10 rows x 10 columns]"
            ]
          },
          "metadata": {
            "tags": []
          },
          "execution_count": 171
        }
      ]
    },
    {
      "cell_type": "code",
      "metadata": {
        "id": "j_JSb95SWO8t"
      },
      "source": [
        "test_report_df.to_csv('Test_confusion_matrix.csv')"
      ],
      "execution_count": null,
      "outputs": []
    },
    {
      "cell_type": "code",
      "metadata": {
        "id": "dFevNWHsWONW"
      },
      "source": [
        ""
      ],
      "execution_count": null,
      "outputs": []
    },
    {
      "cell_type": "code",
      "metadata": {
        "id": "8XKwd4KQ2AtW"
      },
      "source": [
        ""
      ],
      "execution_count": null,
      "outputs": []
    },
    {
      "cell_type": "markdown",
      "metadata": {
        "id": "tXfxBX--PPDw"
      },
      "source": [
        "# Assignment 2"
      ]
    },
    {
      "cell_type": "markdown",
      "metadata": {
        "id": "Bd_SClFhfxNU"
      },
      "source": [
        "## Model Parameters"
      ]
    },
    {
      "cell_type": "code",
      "metadata": {
        "id": "j-vd1KKYcqZr"
      },
      "source": [
        "def ass2_predict(hw,MM):\n",
        "  if(hw in ind_hws.keys()):\n",
        "    return unique_tags[np.argmax(MM[ind_hws[hw]])]\n",
        "  else:\n",
        "    return \"SUBST\""
      ],
      "execution_count": null,
      "outputs": []
    },
    {
      "cell_type": "code",
      "metadata": {
        "id": "JgyV9-BJVAcP"
      },
      "source": [
        "def create_map_matrix(dictionary,num_tags,num_words):\n",
        "  # return emission matrix(EM[num_tags*num_words]) which shows the probability of given a tag(in row), what is the probabilty of a given word(in columns) \n",
        "  MM = np.zeros((num_words,num_tags))\n",
        "  for hw,tag in tqdm(zip(dictionary[0],dictionary[1])):\n",
        "    MM[ind_hws[hw]][ind_tags[tag]]+=1\n",
        "  for i in range(num_words):\n",
        "    MM[i]/=np.sum(MM[i])\n",
        "  # Adding small probabilities to avoid zero, Last column corresponds to '<UNKNOWN>' keyword \n",
        "  MM[-1,:]=1e-12\n",
        "  return MM"
      ],
      "execution_count": null,
      "outputs": []
    },
    {
      "cell_type": "code",
      "metadata": {
        "colab": {
          "base_uri": "https://localhost:8080/"
        },
        "id": "lBl0rM09VyfT",
        "outputId": "cb828930-69d5-4a41-d672-3ec93abcb20a"
      },
      "source": [
        "MM=create_map_matrix(dictionary,num_tags,num_words)"
      ],
      "execution_count": null,
      "outputs": [
        {
          "output_type": "stream",
          "text": [
            "8904217it [00:10, 822767.49it/s]\n",
            "/usr/local/lib/python3.6/dist-packages/ipykernel_launcher.py:7: RuntimeWarning: invalid value encountered in true_divide\n",
            "  import sys\n"
          ],
          "name": "stderr"
        }
      ]
    },
    {
      "cell_type": "code",
      "metadata": {
        "colab": {
          "base_uri": "https://localhost:8080/"
        },
        "id": "XWIuzEAFV5Rc",
        "outputId": "d489a9de-0d96-4531-f901-d0d50c482684"
      },
      "source": [
        "MM.shape"
      ],
      "execution_count": null,
      "outputs": [
        {
          "output_type": "execute_result",
          "data": {
            "text/plain": [
              "(139151, 10)"
            ]
          },
          "metadata": {
            "tags": []
          },
          "execution_count": 33
        }
      ]
    },
    {
      "cell_type": "code",
      "metadata": {
        "id": "DDaa5dqgdCMR"
      },
      "source": [
        ""
      ],
      "execution_count": null,
      "outputs": []
    },
    {
      "cell_type": "markdown",
      "metadata": {
        "id": "5jqQPcmXdDLq"
      },
      "source": [
        "## Train"
      ]
    },
    {
      "cell_type": "code",
      "metadata": {
        "colab": {
          "base_uri": "https://localhost:8080/"
        },
        "id": "drtZ1MGrV931",
        "outputId": "a155df13-2c10-4396-e36c-e067ff84f92c"
      },
      "source": [
        "ass2_predictions=[]\n",
        "for hw in tqdm(dictionary[0]):\n",
        "  ass2_predictions.append(ass2_predict(hw,MM))"
      ],
      "execution_count": null,
      "outputs": [
        {
          "output_type": "stream",
          "text": [
            "100%|██████████| 8904217/8904217 [00:21<00:00, 407453.62it/s]\n"
          ],
          "name": "stderr"
        }
      ]
    },
    {
      "cell_type": "code",
      "metadata": {
        "colab": {
          "base_uri": "https://localhost:8080/"
        },
        "id": "C1sLDdBFXI9X",
        "outputId": "1f05cbd7-e8b4-4f95-e4ac-f27a26544bf9"
      },
      "source": [
        "print(len(dictionary[0]),len(dictionary[1]),len(ass2_predictions))"
      ],
      "execution_count": null,
      "outputs": [
        {
          "output_type": "stream",
          "text": [
            "8904217 8904217 8904217\n"
          ],
          "name": "stdout"
        }
      ]
    },
    {
      "cell_type": "code",
      "metadata": {
        "id": "we7s9X-0XhIq"
      },
      "source": [
        "ass2_result={'True Tags':dictionary[1],'Predicted Tags':ass2_predictions}"
      ],
      "execution_count": null,
      "outputs": []
    },
    {
      "cell_type": "code",
      "metadata": {
        "id": "FVAeEKCVXxu9"
      },
      "source": [
        "ass2_result={'True Tags':dictionary[1],'Predicted Tags':ass2_predictions}\n",
        "df2=pd.DataFrame(ass2_result)\n",
        "df2.to_csv(\"Ass2_Training_Result.csv\")"
      ],
      "execution_count": null,
      "outputs": []
    },
    {
      "cell_type": "code",
      "metadata": {
        "colab": {
          "base_uri": "https://localhost:8080/"
        },
        "id": "YSlm_DmnX8rI",
        "outputId": "dbe9ee4c-269c-4a09-e7b3-2e1140830a7a"
      },
      "source": [
        "ls"
      ],
      "execution_count": null,
      "outputs": [
        {
          "output_type": "stream",
          "text": [
            "Ass2_Training_Result.csv   Test_Result_sentencewise.csv\n",
            "Assigment.pdf              Test_Result_sentencewise.gsheet\n",
            "\u001b[0m\u001b[01;34mResults\u001b[0m/                   Train_confusion_matrix.csv\n",
            "Test_confusion_matrix.csv  \u001b[01;34mTrain-corups\u001b[0m/\n",
            "\u001b[01;34mTest-corpus\u001b[0m/               Training_Result.csv\n",
            "Test_Result.csv            Training_Result_sentencewise.csv\n"
          ],
          "name": "stdout"
        }
      ]
    },
    {
      "cell_type": "code",
      "metadata": {
        "id": "YE0-bFfQYC9w"
      },
      "source": [
        "# Importing the dependancies\n",
        "from sklearn import metrics\n",
        "\n",
        "# The confusion matrix\n",
        "# The columns will show the instances predicted for each label,\n",
        "# and the rows will show the actual number of instances for each label.\n",
        "ass2_train_cf_matrix=metrics.confusion_matrix(y_true=dictionary[1],y_pred=ass2_predictions, labels=unique_tags)"
      ],
      "execution_count": null,
      "outputs": []
    },
    {
      "cell_type": "code",
      "metadata": {
        "id": "U2wL-bg0YNa5"
      },
      "source": [
        "ass2_report_df=pd.DataFrame(ass2_train_cf_matrix,index=unique_tags,columns=unique_tags)"
      ],
      "execution_count": null,
      "outputs": []
    },
    {
      "cell_type": "code",
      "metadata": {
        "colab": {
          "base_uri": "https://localhost:8080/",
          "height": 343
        },
        "id": "HBxSa-B9Ya4a",
        "outputId": "f2ddc128-a8a7-402f-d9e4-24ae4ba16b1f"
      },
      "source": [
        "ass2_report_df"
      ],
      "execution_count": null,
      "outputs": [
        {
          "output_type": "execute_result",
          "data": {
            "text/html": [
              "<div>\n",
              "<style scoped>\n",
              "    .dataframe tbody tr th:only-of-type {\n",
              "        vertical-align: middle;\n",
              "    }\n",
              "\n",
              "    .dataframe tbody tr th {\n",
              "        vertical-align: top;\n",
              "    }\n",
              "\n",
              "    .dataframe thead th {\n",
              "        text-align: right;\n",
              "    }\n",
              "</style>\n",
              "<table border=\"1\" class=\"dataframe\">\n",
              "  <thead>\n",
              "    <tr style=\"text-align: right;\">\n",
              "      <th></th>\n",
              "      <th>ADV</th>\n",
              "      <th>ADJ</th>\n",
              "      <th>VERB</th>\n",
              "      <th>CONJ</th>\n",
              "      <th>INTERJ</th>\n",
              "      <th>UNC</th>\n",
              "      <th>PREP</th>\n",
              "      <th>SUBST</th>\n",
              "      <th>PRON</th>\n",
              "      <th>ART</th>\n",
              "    </tr>\n",
              "  </thead>\n",
              "  <tbody>\n",
              "    <tr>\n",
              "      <th>ADV</th>\n",
              "      <td>471613</td>\n",
              "      <td>15053</td>\n",
              "      <td>91</td>\n",
              "      <td>11215</td>\n",
              "      <td>1</td>\n",
              "      <td>0</td>\n",
              "      <td>28112</td>\n",
              "      <td>3241</td>\n",
              "      <td>4277</td>\n",
              "      <td>160</td>\n",
              "    </tr>\n",
              "    <tr>\n",
              "      <th>ADJ</th>\n",
              "      <td>25960</td>\n",
              "      <td>1015952</td>\n",
              "      <td>6199</td>\n",
              "      <td>21628</td>\n",
              "      <td>6</td>\n",
              "      <td>0</td>\n",
              "      <td>1433</td>\n",
              "      <td>22323</td>\n",
              "      <td>407</td>\n",
              "      <td>0</td>\n",
              "    </tr>\n",
              "    <tr>\n",
              "      <th>VERB</th>\n",
              "      <td>997</td>\n",
              "      <td>10547</td>\n",
              "      <td>1437718</td>\n",
              "      <td>39</td>\n",
              "      <td>18</td>\n",
              "      <td>23</td>\n",
              "      <td>3117</td>\n",
              "      <td>112518</td>\n",
              "      <td>52</td>\n",
              "      <td>123</td>\n",
              "    </tr>\n",
              "    <tr>\n",
              "      <th>CONJ</th>\n",
              "      <td>7401</td>\n",
              "      <td>0</td>\n",
              "      <td>0</td>\n",
              "      <td>481532</td>\n",
              "      <td>0</td>\n",
              "      <td>0</td>\n",
              "      <td>6691</td>\n",
              "      <td>0</td>\n",
              "      <td>0</td>\n",
              "      <td>0</td>\n",
              "    </tr>\n",
              "    <tr>\n",
              "      <th>INTERJ</th>\n",
              "      <td>0</td>\n",
              "      <td>145</td>\n",
              "      <td>37</td>\n",
              "      <td>0</td>\n",
              "      <td>3978</td>\n",
              "      <td>17</td>\n",
              "      <td>2</td>\n",
              "      <td>156</td>\n",
              "      <td>0</td>\n",
              "      <td>1416</td>\n",
              "    </tr>\n",
              "    <tr>\n",
              "      <th>UNC</th>\n",
              "      <td>4</td>\n",
              "      <td>32</td>\n",
              "      <td>30</td>\n",
              "      <td>6</td>\n",
              "      <td>1</td>\n",
              "      <td>89418</td>\n",
              "      <td>25</td>\n",
              "      <td>763</td>\n",
              "      <td>17</td>\n",
              "      <td>14</td>\n",
              "    </tr>\n",
              "    <tr>\n",
              "      <th>PREP</th>\n",
              "      <td>5266</td>\n",
              "      <td>706</td>\n",
              "      <td>42</td>\n",
              "      <td>21752</td>\n",
              "      <td>27</td>\n",
              "      <td>4</td>\n",
              "      <td>1148198</td>\n",
              "      <td>54</td>\n",
              "      <td>0</td>\n",
              "      <td>0</td>\n",
              "    </tr>\n",
              "    <tr>\n",
              "      <th>SUBST</th>\n",
              "      <td>3415</td>\n",
              "      <td>56061</td>\n",
              "      <td>83715</td>\n",
              "      <td>519</td>\n",
              "      <td>134</td>\n",
              "      <td>155</td>\n",
              "      <td>1006</td>\n",
              "      <td>2327955</td>\n",
              "      <td>577</td>\n",
              "      <td>1840</td>\n",
              "    </tr>\n",
              "    <tr>\n",
              "      <th>PRON</th>\n",
              "      <td>2</td>\n",
              "      <td>6877</td>\n",
              "      <td>0</td>\n",
              "      <td>0</td>\n",
              "      <td>0</td>\n",
              "      <td>0</td>\n",
              "      <td>0</td>\n",
              "      <td>28</td>\n",
              "      <td>622088</td>\n",
              "      <td>0</td>\n",
              "    </tr>\n",
              "    <tr>\n",
              "      <th>ART</th>\n",
              "      <td>0</td>\n",
              "      <td>1</td>\n",
              "      <td>0</td>\n",
              "      <td>0</td>\n",
              "      <td>2</td>\n",
              "      <td>0</td>\n",
              "      <td>0</td>\n",
              "      <td>0</td>\n",
              "      <td>1</td>\n",
              "      <td>839284</td>\n",
              "    </tr>\n",
              "  </tbody>\n",
              "</table>\n",
              "</div>"
            ],
            "text/plain": [
              "           ADV      ADJ     VERB    CONJ  ...     PREP    SUBST    PRON     ART\n",
              "ADV     471613    15053       91   11215  ...    28112     3241    4277     160\n",
              "ADJ      25960  1015952     6199   21628  ...     1433    22323     407       0\n",
              "VERB       997    10547  1437718      39  ...     3117   112518      52     123\n",
              "CONJ      7401        0        0  481532  ...     6691        0       0       0\n",
              "INTERJ       0      145       37       0  ...        2      156       0    1416\n",
              "UNC          4       32       30       6  ...       25      763      17      14\n",
              "PREP      5266      706       42   21752  ...  1148198       54       0       0\n",
              "SUBST     3415    56061    83715     519  ...     1006  2327955     577    1840\n",
              "PRON         2     6877        0       0  ...        0       28  622088       0\n",
              "ART          0        1        0       0  ...        0        0       1  839284\n",
              "\n",
              "[10 rows x 10 columns]"
            ]
          },
          "metadata": {
            "tags": []
          },
          "execution_count": 46
        }
      ]
    },
    {
      "cell_type": "code",
      "metadata": {
        "id": "49jtsRWeZvOT"
      },
      "source": [
        "ass2_report_df.to_csv('Ass2_Train_confusion_matrix.csv')"
      ],
      "execution_count": null,
      "outputs": []
    },
    {
      "cell_type": "code",
      "metadata": {
        "colab": {
          "base_uri": "https://localhost:8080/"
        },
        "id": "io0Ecv2mYcSx",
        "outputId": "f84d2734-8153-4d99-b89c-c6a0917a2426"
      },
      "source": [
        "# Printing the precision and recall, among other metrics\n",
        "ass2_train_report=metrics.classification_report(y_true=dictionary[1],y_pred=ass2_predictions, labels=unique_tags)\n",
        "# print(type(train_report))\n",
        "print(ass2_train_report)"
      ],
      "execution_count": null,
      "outputs": [
        {
          "output_type": "stream",
          "text": [
            "              precision    recall  f1-score   support\n",
            "\n",
            "         ADV       0.92      0.88      0.90    533763\n",
            "         ADJ       0.92      0.93      0.92   1093908\n",
            "        VERB       0.94      0.92      0.93   1565152\n",
            "        CONJ       0.90      0.97      0.93    495624\n",
            "      INTERJ       0.95      0.69      0.80      5751\n",
            "         UNC       1.00      0.99      0.99     90310\n",
            "        PREP       0.97      0.98      0.97   1176049\n",
            "       SUBST       0.94      0.94      0.94   2475377\n",
            "        PRON       0.99      0.99      0.99    628995\n",
            "         ART       1.00      1.00      1.00    839288\n",
            "\n",
            "    accuracy                           0.95   8904217\n",
            "   macro avg       0.95      0.93      0.94   8904217\n",
            "weighted avg       0.95      0.95      0.95   8904217\n",
            "\n"
          ],
          "name": "stdout"
        }
      ]
    },
    {
      "cell_type": "code",
      "metadata": {
        "id": "CQFj_y-9Yxh-"
      },
      "source": [
        ""
      ],
      "execution_count": null,
      "outputs": []
    },
    {
      "cell_type": "markdown",
      "metadata": {
        "id": "Zx_dLfMpdFwN"
      },
      "source": [
        "## Test"
      ]
    },
    {
      "cell_type": "code",
      "metadata": {
        "colab": {
          "base_uri": "https://localhost:8080/"
        },
        "id": "h5osatpPdG_a",
        "outputId": "46368431-df5d-421e-bf99-662ab02f3318"
      },
      "source": [
        "ass2_test_predictions=[]\n",
        "for hw in tqdm(test_dictionary[0]):\n",
        "  ass2_test_predictions.append(ass2_predict(hw,MM))"
      ],
      "execution_count": null,
      "outputs": [
        {
          "output_type": "stream",
          "text": [
            "100%|██████████| 3536068/3536068 [00:09<00:00, 365187.81it/s]\n"
          ],
          "name": "stderr"
        }
      ]
    },
    {
      "cell_type": "code",
      "metadata": {
        "colab": {
          "base_uri": "https://localhost:8080/"
        },
        "id": "wuDNrvFydSCo",
        "outputId": "8163b5fa-c103-49a5-bede-470959c3db78"
      },
      "source": [
        "print(len(test_dictionary[0]),len(test_dictionary[1]),len(ass2_test_predictions))"
      ],
      "execution_count": null,
      "outputs": [
        {
          "output_type": "stream",
          "text": [
            "3536068 3536068 3536068\n"
          ],
          "name": "stdout"
        }
      ]
    },
    {
      "cell_type": "code",
      "metadata": {
        "id": "CBNPtOMPdvuO"
      },
      "source": [
        "ass2_test_result={'True Tags':test_dictionary[1],'Predicted Tags':ass2_test_predictions}\n",
        "df2=pd.DataFrame(ass2_test_result)\n",
        "df2.to_csv(\"Ass2_Test_Result.csv\")"
      ],
      "execution_count": null,
      "outputs": []
    },
    {
      "cell_type": "code",
      "metadata": {
        "id": "LQSSH7JKeEKR"
      },
      "source": [
        "# Importing the dependancies\n",
        "from sklearn import metrics\n",
        "\n",
        "# The confusion matrix\n",
        "# The columns will show the instances predicted for each label,\n",
        "# and the rows will show the actual number of instances for each label.\n",
        "ass2_test_cf_matrix=metrics.confusion_matrix(y_true=test_dictionary[1],y_pred=ass2_test_predictions, labels=unique_tags)"
      ],
      "execution_count": null,
      "outputs": []
    },
    {
      "cell_type": "code",
      "metadata": {
        "id": "Xir8K6n5eQgo"
      },
      "source": [
        "ass2_test_report_df=pd.DataFrame(ass2_test_cf_matrix,index=unique_tags,columns=unique_tags)"
      ],
      "execution_count": null,
      "outputs": []
    },
    {
      "cell_type": "code",
      "metadata": {
        "colab": {
          "base_uri": "https://localhost:8080/",
          "height": 343
        },
        "id": "pM4sFN1beYue",
        "outputId": "ed8540b7-d04f-43c3-e86a-b3bebf9f6648"
      },
      "source": [
        "ass2_test_report_df"
      ],
      "execution_count": null,
      "outputs": [
        {
          "output_type": "execute_result",
          "data": {
            "text/html": [
              "<div>\n",
              "<style scoped>\n",
              "    .dataframe tbody tr th:only-of-type {\n",
              "        vertical-align: middle;\n",
              "    }\n",
              "\n",
              "    .dataframe tbody tr th {\n",
              "        vertical-align: top;\n",
              "    }\n",
              "\n",
              "    .dataframe thead th {\n",
              "        text-align: right;\n",
              "    }\n",
              "</style>\n",
              "<table border=\"1\" class=\"dataframe\">\n",
              "  <thead>\n",
              "    <tr style=\"text-align: right;\">\n",
              "      <th></th>\n",
              "      <th>ADV</th>\n",
              "      <th>ADJ</th>\n",
              "      <th>VERB</th>\n",
              "      <th>CONJ</th>\n",
              "      <th>INTERJ</th>\n",
              "      <th>UNC</th>\n",
              "      <th>PREP</th>\n",
              "      <th>SUBST</th>\n",
              "      <th>PRON</th>\n",
              "      <th>ART</th>\n",
              "    </tr>\n",
              "  </thead>\n",
              "  <tbody>\n",
              "    <tr>\n",
              "      <th>ADV</th>\n",
              "      <td>203701</td>\n",
              "      <td>6294</td>\n",
              "      <td>32</td>\n",
              "      <td>4364</td>\n",
              "      <td>0</td>\n",
              "      <td>0</td>\n",
              "      <td>11871</td>\n",
              "      <td>1786</td>\n",
              "      <td>1991</td>\n",
              "      <td>62</td>\n",
              "    </tr>\n",
              "    <tr>\n",
              "      <th>ADJ</th>\n",
              "      <td>10164</td>\n",
              "      <td>387462</td>\n",
              "      <td>2717</td>\n",
              "      <td>9066</td>\n",
              "      <td>1</td>\n",
              "      <td>4</td>\n",
              "      <td>615</td>\n",
              "      <td>19015</td>\n",
              "      <td>279</td>\n",
              "      <td>0</td>\n",
              "    </tr>\n",
              "    <tr>\n",
              "      <th>VERB</th>\n",
              "      <td>302</td>\n",
              "      <td>4377</td>\n",
              "      <td>594562</td>\n",
              "      <td>9</td>\n",
              "      <td>11</td>\n",
              "      <td>7</td>\n",
              "      <td>1351</td>\n",
              "      <td>45769</td>\n",
              "      <td>20</td>\n",
              "      <td>9</td>\n",
              "    </tr>\n",
              "    <tr>\n",
              "      <th>CONJ</th>\n",
              "      <td>3172</td>\n",
              "      <td>0</td>\n",
              "      <td>0</td>\n",
              "      <td>203397</td>\n",
              "      <td>0</td>\n",
              "      <td>0</td>\n",
              "      <td>2716</td>\n",
              "      <td>6</td>\n",
              "      <td>0</td>\n",
              "      <td>0</td>\n",
              "    </tr>\n",
              "    <tr>\n",
              "      <th>INTERJ</th>\n",
              "      <td>0</td>\n",
              "      <td>134</td>\n",
              "      <td>23</td>\n",
              "      <td>0</td>\n",
              "      <td>2655</td>\n",
              "      <td>2</td>\n",
              "      <td>0</td>\n",
              "      <td>113</td>\n",
              "      <td>0</td>\n",
              "      <td>875</td>\n",
              "    </tr>\n",
              "    <tr>\n",
              "      <th>UNC</th>\n",
              "      <td>5</td>\n",
              "      <td>35</td>\n",
              "      <td>12</td>\n",
              "      <td>8</td>\n",
              "      <td>8</td>\n",
              "      <td>21177</td>\n",
              "      <td>95</td>\n",
              "      <td>4938</td>\n",
              "      <td>5</td>\n",
              "      <td>6</td>\n",
              "    </tr>\n",
              "    <tr>\n",
              "      <th>PREP</th>\n",
              "      <td>2268</td>\n",
              "      <td>306</td>\n",
              "      <td>23</td>\n",
              "      <td>8538</td>\n",
              "      <td>12</td>\n",
              "      <td>1</td>\n",
              "      <td>456119</td>\n",
              "      <td>29</td>\n",
              "      <td>0</td>\n",
              "      <td>0</td>\n",
              "    </tr>\n",
              "    <tr>\n",
              "      <th>SUBST</th>\n",
              "      <td>1439</td>\n",
              "      <td>20016</td>\n",
              "      <td>32590</td>\n",
              "      <td>233</td>\n",
              "      <td>53</td>\n",
              "      <td>130</td>\n",
              "      <td>343</td>\n",
              "      <td>850451</td>\n",
              "      <td>240</td>\n",
              "      <td>745</td>\n",
              "    </tr>\n",
              "    <tr>\n",
              "      <th>PRON</th>\n",
              "      <td>2</td>\n",
              "      <td>3180</td>\n",
              "      <td>0</td>\n",
              "      <td>0</td>\n",
              "      <td>0</td>\n",
              "      <td>0</td>\n",
              "      <td>0</td>\n",
              "      <td>61</td>\n",
              "      <td>275500</td>\n",
              "      <td>0</td>\n",
              "    </tr>\n",
              "    <tr>\n",
              "      <th>ART</th>\n",
              "      <td>0</td>\n",
              "      <td>0</td>\n",
              "      <td>0</td>\n",
              "      <td>0</td>\n",
              "      <td>0</td>\n",
              "      <td>0</td>\n",
              "      <td>0</td>\n",
              "      <td>5</td>\n",
              "      <td>0</td>\n",
              "      <td>338561</td>\n",
              "    </tr>\n",
              "  </tbody>\n",
              "</table>\n",
              "</div>"
            ],
            "text/plain": [
              "           ADV     ADJ    VERB    CONJ  ...    PREP   SUBST    PRON     ART\n",
              "ADV     203701    6294      32    4364  ...   11871    1786    1991      62\n",
              "ADJ      10164  387462    2717    9066  ...     615   19015     279       0\n",
              "VERB       302    4377  594562       9  ...    1351   45769      20       9\n",
              "CONJ      3172       0       0  203397  ...    2716       6       0       0\n",
              "INTERJ       0     134      23       0  ...       0     113       0     875\n",
              "UNC          5      35      12       8  ...      95    4938       5       6\n",
              "PREP      2268     306      23    8538  ...  456119      29       0       0\n",
              "SUBST     1439   20016   32590     233  ...     343  850451     240     745\n",
              "PRON         2    3180       0       0  ...       0      61  275500       0\n",
              "ART          0       0       0       0  ...       0       5       0  338561\n",
              "\n",
              "[10 rows x 10 columns]"
            ]
          },
          "metadata": {
            "tags": []
          },
          "execution_count": 81
        }
      ]
    },
    {
      "cell_type": "code",
      "metadata": {
        "id": "Pgsq-3xSeboo"
      },
      "source": [
        "ass2_test_report_df.to_csv('Ass2_Test_confusion_matrix.csv')"
      ],
      "execution_count": null,
      "outputs": []
    },
    {
      "cell_type": "code",
      "metadata": {
        "colab": {
          "base_uri": "https://localhost:8080/"
        },
        "id": "CCgNkDEgel23",
        "outputId": "aaa96767-f09b-41d3-864c-65a037106807"
      },
      "source": [
        "# Printing the precision and recall, among other metrics\n",
        "ass2_test_report=metrics.classification_report(y_true=test_dictionary[1],y_pred=ass2_test_predictions, labels=unique_tags)\n",
        "# print(type(train_report))\n",
        "print(ass2_test_report)"
      ],
      "execution_count": null,
      "outputs": [
        {
          "output_type": "stream",
          "text": [
            "              precision    recall  f1-score   support\n",
            "\n",
            "         ADV       0.92      0.89      0.90    230101\n",
            "         ADJ       0.92      0.90      0.91    429323\n",
            "        VERB       0.94      0.92      0.93    646417\n",
            "        CONJ       0.90      0.97      0.94    209291\n",
            "      INTERJ       0.97      0.70      0.81      3802\n",
            "         UNC       0.99      0.81      0.89     26289\n",
            "        PREP       0.96      0.98      0.97    467296\n",
            "       SUBST       0.92      0.94      0.93    906240\n",
            "        PRON       0.99      0.99      0.99    278743\n",
            "         ART       1.00      1.00      1.00    338566\n",
            "\n",
            "    accuracy                           0.94   3536068\n",
            "   macro avg       0.95      0.91      0.93   3536068\n",
            "weighted avg       0.94      0.94      0.94   3536068\n",
            "\n"
          ],
          "name": "stdout"
        }
      ]
    },
    {
      "cell_type": "code",
      "metadata": {
        "id": "AK7JCcFbe9Ce"
      },
      "source": [
        ""
      ],
      "execution_count": null,
      "outputs": []
    }
  ]
}